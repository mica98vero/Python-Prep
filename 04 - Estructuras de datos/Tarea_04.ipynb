{
 "cells": [
  {
   "cell_type": "markdown",
   "metadata": {},
   "source": [
    "1) Crear una lista que contenga nombres de ciudades del mundo que contenga más de 5 elementos e imprimir por pantalla"
   ]
  },
  {
   "cell_type": "code",
   "execution_count": 24,
   "metadata": {},
   "outputs": [
    {
     "name": "stdout",
     "output_type": "stream",
     "text": [
      "['La Ferrere', 'Casanova', 'Hurlingham', 'Buenos Aires', 'Catán']\n"
     ]
    }
   ],
   "source": [
    "#Mantener la convección entre 'comillas simples' o \"comillas dobles\" durante todo el código\n",
    "paises_a=['La Ferrere','Casanova','Hurlingham','Buenos Aires','Catán']\n",
    "print(paises_a)"
   ]
  },
  {
   "cell_type": "markdown",
   "metadata": {},
   "source": [
    "2) Imprimir por pantalla el segundo elemento de la lista"
   ]
  },
  {
   "cell_type": "code",
   "execution_count": 6,
   "metadata": {},
   "outputs": [
    {
     "name": "stdout",
     "output_type": "stream",
     "text": [
      "Casanova\n"
     ]
    }
   ],
   "source": [
    "#Las listas estan idexadas, es decir comienzan por el 0\n",
    "paises_b=['La Ferrere','Casanova','Hurlingham','Buenos Aires','Catán']\n",
    "print(paises_b[1])"
   ]
  },
  {
   "cell_type": "markdown",
   "metadata": {},
   "source": [
    "3) Imprimir por pantalla del segundo al cuarto elemento"
   ]
  },
  {
   "cell_type": "code",
   "execution_count": 36,
   "metadata": {},
   "outputs": [
    {
     "name": "stdout",
     "output_type": "stream",
     "text": [
      "['La Ferrere', 'Casanova', 'Hurlingham', 'Buenos Aires', 'Catán']\n",
      "['Casanova', 'Hurlingham', 'Buenos Aires']\n",
      "['Casanova', 'Buenos Aires']\n"
     ]
    }
   ],
   "source": [
    "paises_c=['La Ferrere','Casanova','Hurlingham','Buenos Aires','Catán']\n",
    "print(paises_c)\n",
    "print(paises_c[1:4])\n",
    "#Como ir recorriendo la lista\n",
    "print(paises_c[1:4:2])"
   ]
  },
  {
   "cell_type": "markdown",
   "metadata": {},
   "source": [
    "4) Visualizar el tipo de dato de la lista"
   ]
  },
  {
   "cell_type": "code",
   "execution_count": 8,
   "metadata": {},
   "outputs": [
    {
     "name": "stdout",
     "output_type": "stream",
     "text": [
      "<class 'list'>\n"
     ]
    }
   ],
   "source": [
    "paises_d=['La Ferrere','Casanova','Hurlingham','Buenos Aires','Catán']\n",
    "print(type(paises_d))"
   ]
  },
  {
   "cell_type": "markdown",
   "metadata": {},
   "source": [
    "5) Visualizar todos los elementos de la lista a partir del tercero de manera genérica, es decir, sin explicitar la posición del último elemento"
   ]
  },
  {
   "cell_type": "code",
   "execution_count": 37,
   "metadata": {},
   "outputs": [
    {
     "name": "stdout",
     "output_type": "stream",
     "text": [
      "['Hurlingham', 'Buenos Aires', 'Catán']\n"
     ]
    }
   ],
   "source": [
    "#Arranco desde un indice a imprimir la lista\n",
    "paises_e=['La Ferrere','Casanova','Hurlingham','Buenos Aires','Catán']\n",
    "print(paises_e[2:])"
   ]
  },
  {
   "cell_type": "markdown",
   "metadata": {},
   "source": [
    "6) Visualizar los primeros 4 elementos de la lista"
   ]
  },
  {
   "cell_type": "code",
   "execution_count": 38,
   "metadata": {},
   "outputs": [
    {
     "name": "stdout",
     "output_type": "stream",
     "text": [
      "['La Ferrere', 'Casanova', 'Hurlingham', 'Buenos Aires']\n"
     ]
    }
   ],
   "source": [
    "#Indico hasta que indice imprimir la lista\n",
    "paises_f=['La Ferrere','Casanova','Hurlingham','Buenos Aires','Catán']\n",
    "print(paises_f[:4])"
   ]
  },
  {
   "cell_type": "markdown",
   "metadata": {},
   "source": [
    "7) Agregar una ciudad más a la lista que ya exista y otra que no ¿Arroja algún tipo de error?"
   ]
  },
  {
   "cell_type": "code",
   "execution_count": 39,
   "metadata": {},
   "outputs": [
    {
     "name": "stdout",
     "output_type": "stream",
     "text": [
      "['La Ferrere', 'Casanova', 'Hurlingham', 'Buenos Aires', 'Catán', 'Casanova', 'Morón']\n"
     ]
    }
   ],
   "source": [
    "#Sólo se puede agregagar uno a la vez, sino arroja error.\n",
    "\n",
    "paises_g=['La Ferrere','Casanova','Hurlingham','Buenos Aires','Catán']\n",
    "paises_g.append('Casanova')\n",
    "paises_g.append('Morón')\n",
    "print(paises_g)\n"
   ]
  },
  {
   "cell_type": "markdown",
   "metadata": {},
   "source": [
    "8) Agregar otra ciudad, pero en la cuarta posición"
   ]
  },
  {
   "cell_type": "code",
   "execution_count": 12,
   "metadata": {},
   "outputs": [
    {
     "name": "stdout",
     "output_type": "stream",
     "text": [
      "['La Ferrere', 'Casanova', 'Hurlingham', 'Barcelona', 'Buenos Aires', 'Catán']\n"
     ]
    }
   ],
   "source": [
    "#Agregar con indice\n",
    "paises_h=['La Ferrere','Casanova','Hurlingham','Buenos Aires','Catán']\n",
    "paises_h.insert(3,'Barcelona')\n",
    "print(paises_h)"
   ]
  },
  {
   "cell_type": "markdown",
   "metadata": {},
   "source": [
    "9) Concatenar otra lista a la ya creada"
   ]
  },
  {
   "cell_type": "code",
   "execution_count": 13,
   "metadata": {},
   "outputs": [
    {
     "name": "stdout",
     "output_type": "stream",
     "text": [
      "['La Ferrere', 'Casanova', 'Hurlingham', 'Buenos Aires', 'Catán', 'La Ferrere', 'Casanova', 'Hurlingham', 'Barcelona', 'Buenos Aires', 'Catán']\n"
     ]
    }
   ],
   "source": [
    "#Agregar lista\n",
    "paises_i=['La Ferrere','Casanova','Hurlingham','Buenos Aires','Catán']\n",
    "paises_i.extend(paises_h)\n",
    "print(paises_i)"
   ]
  },
  {
   "cell_type": "markdown",
   "metadata": {},
   "source": [
    "10) Encontrar el índice de la ciudad que en el punto 7 agregamos duplicada. ¿Se nota alguna particularidad?"
   ]
  },
  {
   "cell_type": "code",
   "execution_count": 41,
   "metadata": {},
   "outputs": [
    {
     "name": "stdout",
     "output_type": "stream",
     "text": [
      "['La Ferrere', 'Casanova', 'Hurlingham', 'Buenos Aires', 'Catán', 'Casanova', 'Morón']\n",
      "1\n"
     ]
    }
   ],
   "source": [
    "#Solo muestra el índice de la primera vez que aparece.\n",
    "print(paises_g)\n",
    "print(paises_g.index('Casanova'))"
   ]
  },
  {
   "cell_type": "markdown",
   "metadata": {},
   "source": [
    "11) ¿Qué pasa si se busca un elemento que no existe?"
   ]
  },
  {
   "cell_type": "code",
   "execution_count": 42,
   "metadata": {},
   "outputs": [
    {
     "ename": "ValueError",
     "evalue": "'moron' is not in list",
     "output_type": "error",
     "traceback": [
      "\u001b[1;31m---------------------------------------------------------------------------\u001b[0m",
      "\u001b[1;31mValueError\u001b[0m                                Traceback (most recent call last)",
      "\u001b[1;32me:\\Prep-Henry\\Python-Prep\\04 - Estructuras de datos\\Tarea_04.ipynb Cell 22'\u001b[0m in \u001b[0;36m<cell line: 3>\u001b[1;34m()\u001b[0m\n\u001b[0;32m      <a href='vscode-notebook-cell:/e%3A/Prep-Henry/Python-Prep/04%20-%20Estructuras%20de%20datos/Tarea_04.ipynb#ch0000021?line=0'>1</a>\u001b[0m \u001b[39m#Me da error porque no está en la lista\u001b[39;00m\n\u001b[0;32m      <a href='vscode-notebook-cell:/e%3A/Prep-Henry/Python-Prep/04%20-%20Estructuras%20de%20datos/Tarea_04.ipynb#ch0000021?line=1'>2</a>\u001b[0m paises_j\u001b[39m=\u001b[39m[\u001b[39m'\u001b[39m\u001b[39mLa Ferrere\u001b[39m\u001b[39m'\u001b[39m,\u001b[39m'\u001b[39m\u001b[39mCasanova\u001b[39m\u001b[39m'\u001b[39m,\u001b[39m'\u001b[39m\u001b[39mHurlingham\u001b[39m\u001b[39m'\u001b[39m,\u001b[39m'\u001b[39m\u001b[39mBuenos Aires\u001b[39m\u001b[39m'\u001b[39m,\u001b[39m'\u001b[39m\u001b[39mCatán\u001b[39m\u001b[39m'\u001b[39m]\n\u001b[1;32m----> <a href='vscode-notebook-cell:/e%3A/Prep-Henry/Python-Prep/04%20-%20Estructuras%20de%20datos/Tarea_04.ipynb#ch0000021?line=2'>3</a>\u001b[0m \u001b[39mprint\u001b[39m(paises_j\u001b[39m.\u001b[39;49mindex(\u001b[39m'\u001b[39;49m\u001b[39mmoron\u001b[39;49m\u001b[39m'\u001b[39;49m))\n",
      "\u001b[1;31mValueError\u001b[0m: 'moron' is not in list"
     ]
    }
   ],
   "source": [
    "#Me da error porque no está en la lista\n",
    "paises_j=['La Ferrere','Casanova','Hurlingham','Buenos Aires','Catán']\n",
    "print(paises_j.index('moron'))\n"
   ]
  },
  {
   "cell_type": "markdown",
   "metadata": {},
   "source": [
    "12) Eliminar un elemento de la lista"
   ]
  },
  {
   "cell_type": "code",
   "execution_count": 16,
   "metadata": {},
   "outputs": [
    {
     "name": "stdout",
     "output_type": "stream",
     "text": [
      "['La Ferrere', 'Casanova', 'Hurlingham', 'Catán']\n"
     ]
    }
   ],
   "source": [
    "paises_k=['La Ferrere','Casanova','Hurlingham','Buenos Aires','Catán']\n",
    "paises_k.remove('Buenos Aires')\n",
    "print(paises_k)"
   ]
  },
  {
   "cell_type": "markdown",
   "metadata": {},
   "source": [
    "13) ¿Qué pasa si el elemento a eliminar no existe?"
   ]
  },
  {
   "cell_type": "code",
   "execution_count": 17,
   "metadata": {},
   "outputs": [
    {
     "ename": "ValueError",
     "evalue": "list.remove(x): x not in list",
     "output_type": "error",
     "traceback": [
      "\u001b[1;31m---------------------------------------------------------------------------\u001b[0m",
      "\u001b[1;31mValueError\u001b[0m                                Traceback (most recent call last)",
      "\u001b[1;32me:\\Prep-Henry\\Python-Prep\\04 - Estructuras de datos\\Tarea_04.ipynb Cell 26'\u001b[0m in \u001b[0;36m<cell line: 1>\u001b[1;34m()\u001b[0m\n\u001b[1;32m----> <a href='vscode-notebook-cell:/e%3A/Prep-Henry/Python-Prep/04%20-%20Estructuras%20de%20datos/Tarea_04.ipynb#ch0000025?line=0'>1</a>\u001b[0m paises_k\u001b[39m.\u001b[39;49mremove(\u001b[39m'\u001b[39;49m\u001b[39mBuenos Aires\u001b[39;49m\u001b[39m'\u001b[39;49m)\n\u001b[0;32m      <a href='vscode-notebook-cell:/e%3A/Prep-Henry/Python-Prep/04%20-%20Estructuras%20de%20datos/Tarea_04.ipynb#ch0000025?line=1'>2</a>\u001b[0m \u001b[39mprint\u001b[39m(paises_k)\n",
      "\u001b[1;31mValueError\u001b[0m: list.remove(x): x not in list"
     ]
    }
   ],
   "source": [
    "#Me da ERROR\n",
    "paises_k.remove('Buenos Aires')\n",
    "print(paises_k)"
   ]
  },
  {
   "cell_type": "markdown",
   "metadata": {},
   "source": [
    "14) Extraer el úlimo elemento de la lista, guardarlo en una variable e imprimirlo"
   ]
  },
  {
   "cell_type": "code",
   "execution_count": 43,
   "metadata": {},
   "outputs": [
    {
     "name": "stdout",
     "output_type": "stream",
     "text": [
      "Catán Hurlingham\n",
      "['La Ferrere', 'Casanova', 'Buenos Aires']\n"
     ]
    }
   ],
   "source": [
    "paises_l=['La Ferrere','Casanova','Hurlingham','Buenos Aires','Catán']\n",
    "#Extraigo el último o le doy un indice para extraer.\n",
    "ultimo = paises_l.pop()\n",
    "otro = paises_l.pop(2)\n",
    "print(ultimo, otro)\n",
    "print(paises_l)"
   ]
  },
  {
   "cell_type": "markdown",
   "metadata": {},
   "source": [
    "15) Mostrar la lista multiplicada por 4"
   ]
  },
  {
   "cell_type": "code",
   "execution_count": 19,
   "metadata": {},
   "outputs": [
    {
     "name": "stdout",
     "output_type": "stream",
     "text": [
      "['La Ferrere', 'Casanova', 'Hurlingham', 'Buenos Aires', 'Catán', 'La Ferrere', 'Casanova', 'Hurlingham', 'Buenos Aires', 'Catán', 'La Ferrere', 'Casanova', 'Hurlingham', 'Buenos Aires', 'Catán', 'La Ferrere', 'Casanova', 'Hurlingham', 'Buenos Aires', 'Catán']\n"
     ]
    }
   ],
   "source": [
    "paises_m=['La Ferrere','Casanova','Hurlingham','Buenos Aires','Catán']\n",
    "print(paises_m*4)"
   ]
  },
  {
   "cell_type": "markdown",
   "metadata": {},
   "source": [
    "16) Crear una tupla que contenga los números enteros del 1 al 20"
   ]
  },
  {
   "cell_type": "code",
   "execution_count": 47,
   "metadata": {},
   "outputs": [
    {
     "name": "stdout",
     "output_type": "stream",
     "text": [
      "[1, 2, 3, 4, 5, 6, 7, 8, 9, 10, 11, 12, 13, 14, 15, 16, 17, 18, 19, 20]\n",
      "(1, 2, 3, 4, 5, 6, 7, 8, 9, 10, 11, 12, 13, 14, 15, 16, 17, 18, 19, 20)\n"
     ]
    }
   ],
   "source": [
    "#Las tuplas son inmutables, no puedo ir metiendo elementos.\n",
    "#creo una lista que si puedo modificar.\n",
    "nueva_lista=[] \n",
    "\n",
    "for i in range(1,21):\n",
    "    nueva_lista.append(i)\n",
    "\n",
    "#Convierto la lista en una tupla\n",
    "mi_tupla=tuple(nueva_lista)\n",
    "#Lista\n",
    "print(nueva_lista)\n",
    "#Tupla\n",
    "print(mi_tupla)"
   ]
  },
  {
   "cell_type": "code",
   "execution_count": 44,
   "metadata": {},
   "outputs": [
    {
     "name": "stdout",
     "output_type": "stream",
     "text": [
      "(1, 2, 3, 4, 5, 6, 7, 8, 9, 10, 11, 12, 13, 14, 15, 16, 17, 18, 19, 20)\n"
     ]
    }
   ],
   "source": [
    "#Otra opción más fácil\n",
    "tup=tuple(range(1,21))\n",
    "print(tup)"
   ]
  },
  {
   "cell_type": "code",
   "execution_count": 46,
   "metadata": {},
   "outputs": [
    {
     "name": "stdout",
     "output_type": "stream",
     "text": [
      "[1, 2, 3, 4, 5, 6, 7, 8, 9, 10, 11, 12, 13, 14, 15, 16, 17, 18, 19, 20]\n"
     ]
    }
   ],
   "source": [
    "#Sirve también en listas\n",
    "lista = list(range(1,21))\n",
    "print(lista)"
   ]
  },
  {
   "cell_type": "markdown",
   "metadata": {},
   "source": [
    "17) Imprimir desde el índice 10 al 15 de la tupla"
   ]
  },
  {
   "cell_type": "code",
   "execution_count": 48,
   "metadata": {},
   "outputs": [
    {
     "name": "stdout",
     "output_type": "stream",
     "text": [
      "(11, 12, 13, 14, 15, 16)\n"
     ]
    }
   ],
   "source": [
    "#Es lo mismo con las listas\n",
    "print(tup[10:16])"
   ]
  },
  {
   "cell_type": "markdown",
   "metadata": {},
   "source": [
    "18) Evaluar si los números 20 y 30 están dentro de la tupla"
   ]
  },
  {
   "cell_type": "code",
   "execution_count": 50,
   "metadata": {},
   "outputs": [
    {
     "name": "stdout",
     "output_type": "stream",
     "text": [
      "True\n",
      "False\n",
      "20 Esta en la tupla\n"
     ]
    }
   ],
   "source": [
    "print(20 in tup)\n",
    "print(30 in tup)\n",
    "\n",
    "#Más compleja\n",
    "for i in tup:\n",
    "    if(i==20):\n",
    "        print(i, 'Esta en la tupla')\n",
    "    elif(i==30):\n",
    "        print(i, 'Esta en la tupla')"
   ]
  },
  {
   "cell_type": "markdown",
   "metadata": {},
   "source": [
    "19) Con la lista creada en el punto 1, validar la existencia del elemento 'París' y si no existe, agregarlo. Utilizar una variable e informar lo sucedido."
   ]
  },
  {
   "cell_type": "code",
   "execution_count": 61,
   "metadata": {},
   "outputs": [
    {
     "name": "stdout",
     "output_type": "stream",
     "text": [
      "['La Ferrere', 'Casanova', 'Hurlingham', 'Buenos Aires', 'Catán']\n",
      "Se insertó el elemento París\n",
      "['La Ferrere', 'Casanova', 'Hurlingham', 'Buenos Aires', 'Catán', 'París']\n"
     ]
    }
   ],
   "source": [
    "paises_a=['La Ferrere','Casanova','Hurlingham','Buenos Aires','Catán']\n",
    "elemento ='París'\n",
    "print(paises_a)\n",
    "\n",
    "#Si el elemento NO esta en la lista, lo agrega\n",
    "if(not(elemento in paises_a)):\n",
    "    paises_a.append(elemento)\n",
    "    print('Se insertó el elemento',elemento)\n",
    "\n",
    "#Si está en la lista, imprime\n",
    "else:\n",
    "    print('EL elemento', elemento, 'ya existía')  \n",
    "\n",
    "print(paises_a)"
   ]
  },
  {
   "cell_type": "code",
   "execution_count": 56,
   "metadata": {},
   "outputs": [
    {
     "name": "stdout",
     "output_type": "stream",
     "text": [
      "['La Ferrere', 'Casanova', 'Hurlingham', 'Buenos Aires', 'Catán']\n",
      "El elemento forma parte de la lista\n",
      "['La Ferrere', 'Casanova', 'Hurlingham', 'Buenos Aires', 'Catán']\n"
     ]
    }
   ],
   "source": [
    "#Otra Opción con input (inpunt siempre me da un string)\n",
    "paises_n=['La Ferrere','Casanova','Hurlingham','Buenos Aires','Catán']\n",
    "print(paises_n)\n",
    "ciudad = input('Ingrese la ciudad que desea agregar: ')\n",
    "\n",
    "if(ciudad in paises_n):\n",
    "    print('El elemento forma parte de la lista')\n",
    "else:\n",
    "    paises_n.append(ciudad)\n",
    "    print('Se agregó', ciudad,'a la lista') \n",
    "print(paises_n)"
   ]
  },
  {
   "cell_type": "markdown",
   "metadata": {},
   "source": [
    "20) Mostrar la cantidad de veces que se encuentra un elemento específico dentro de la tupla y de la lis"
   ]
  },
  {
   "cell_type": "code",
   "execution_count": null,
   "metadata": {},
   "outputs": [
    {
     "name": "stdout",
     "output_type": "stream",
     "text": [
      "1\n",
      "1\n"
     ]
    }
   ],
   "source": [
    "print(tup.count(10))\n",
    "print(paises_a.count('Casanova'))"
   ]
  },
  {
   "cell_type": "code",
   "execution_count": 62,
   "metadata": {},
   "outputs": [
    {
     "name": "stdout",
     "output_type": "stream",
     "text": [
      "['La Ferrere', 'Casanova', 'Hurlingham', 'Buenos Aires', 'Catán', 'París', 'Catán']\n",
      "(1, 2, 3, 4, 5, 6, 7, 8, 9, 10, 11, 12, 13, 14, 15, 16, 17, 18, 19, 20)\n",
      "True\n",
      "True\n",
      "2\n",
      "1\n"
     ]
    }
   ],
   "source": [
    "paises_a.append('Catán')\n",
    "print(paises_a)\n",
    "print(tup)\n",
    "\n",
    "print('Catán' in paises_a)\n",
    "print(10 in tup)\n",
    "\n",
    "print(paises_a.count('Catán'))\n",
    "print(tup.count(10))"
   ]
  },
  {
   "cell_type": "code",
   "execution_count": 57,
   "metadata": {},
   "outputs": [
    {
     "name": "stdout",
     "output_type": "stream",
     "text": [
      "Catán aparece 1 vez/ces en la lista\n"
     ]
    }
   ],
   "source": [
    "#Otra opción con input\n",
    "busqueda = input('Ingrese la cuidad que desea buscar: ')\n",
    "#VAriable contadora\n",
    "n=0 \n",
    "#Itero en la lista\n",
    "for i in paises_n:\n",
    "    #Comparo el elemento de la lista con el que busco\n",
    "    if(i==busqueda):\n",
    "        n +=1 #Por cada vez que lo encuentre, sumo uno\n",
    "        \n",
    "print(busqueda,'aparece',n,'vez/ces en la lista')"
   ]
  },
  {
   "cell_type": "markdown",
   "metadata": {},
   "source": [
    "21) Convertir la tupla en una lista"
   ]
  },
  {
   "cell_type": "code",
   "execution_count": 63,
   "metadata": {},
   "outputs": [
    {
     "name": "stdout",
     "output_type": "stream",
     "text": [
      "[1, 2, 3, 4, 5, 6, 7, 8, 9, 10, 11, 12, 13, 14, 15, 16, 17, 18, 19, 20]\n"
     ]
    }
   ],
   "source": [
    "lista_z = list(tup)\n",
    "print(lista_z)"
   ]
  },
  {
   "cell_type": "markdown",
   "metadata": {},
   "source": [
    "22) Desempaquetar solo los primeros 3 elementos de la tupla en 3 variables"
   ]
  },
  {
   "cell_type": "code",
   "execution_count": 30,
   "metadata": {},
   "outputs": [
    {
     "name": "stdout",
     "output_type": "stream",
     "text": [
      "1 2 3\n"
     ]
    }
   ],
   "source": [
    "#Si no desempaqueto todo, tengo que darle un límite\n",
    "var1,var2,var3 = tup[:3]\n",
    "print(var1,var2,var3)"
   ]
  },
  {
   "cell_type": "markdown",
   "metadata": {},
   "source": [
    "23) Crear un diccionario utilizando la lista crada en el punto 1, asignandole la clave \"ciudad\". Agregar tambien otras claves, como puede ser \"Pais\" y \"Continente\"."
   ]
  },
  {
   "cell_type": "code",
   "execution_count": 32,
   "metadata": {},
   "outputs": [
    {
     "name": "stdout",
     "output_type": "stream",
     "text": [
      "{'Ciudad': ['La Ferrere', 'Casanova', 'Hurlingham', 'Buenos Aires', 'Catán', 'París'], 'País': ['Brasil', 'Paraguay', 'Ecuador', 'Uruguay', 'Chile', 'Perú', 'Venezuela', 'Colombia', 'Méjico', 'Uruguay', 'España', 'Italia', 'Francia'], 'Continente': ['América', 'América', 'América', 'América', 'América', 'América', 'América', 'América', 'América', 'América', 'Europa', 'Europa', 'Europa']}\n"
     ]
    }
   ],
   "source": [
    "diccionario = {'Ciudad': paises_n,\n",
    "             'País': ['Brasil','Paraguay','Ecuador','Uruguay','Chile','Perú','Venezuela','Colombia','Méjico','Uruguay','España','Italia','Francia'],\n",
    "             'Continente' : ['América','América','América','América','América','América','América','América','América','América','Europa','Europa','Europa']}\n",
    "\n",
    "print(diccionario)"
   ]
  },
  {
   "cell_type": "markdown",
   "metadata": {},
   "source": [
    "24) Imprimir las claves del diccionario"
   ]
  },
  {
   "cell_type": "code",
   "execution_count": 33,
   "metadata": {},
   "outputs": [
    {
     "name": "stdout",
     "output_type": "stream",
     "text": [
      "dict_keys(['Ciudad', 'País', 'Continente'])\n"
     ]
    }
   ],
   "source": [
    "print(diccionario.keys())"
   ]
  },
  {
   "cell_type": "markdown",
   "metadata": {},
   "source": [
    "25) Imprimir las ciudades a través de su clave"
   ]
  },
  {
   "cell_type": "code",
   "execution_count": 34,
   "metadata": {},
   "outputs": [
    {
     "name": "stdout",
     "output_type": "stream",
     "text": [
      "['La Ferrere', 'Casanova', 'Hurlingham', 'Buenos Aires', 'Catán', 'París']\n"
     ]
    }
   ],
   "source": [
    "print(diccionario['Ciudad'])"
   ]
  }
 ],
 "metadata": {
  "interpreter": {
   "hash": "be8ebe292a6fb22f2c19ec4d5075a38adaba2a2c1e51ef08f8bc0ed916701165"
  },
  "kernelspec": {
   "display_name": "Python 3.10.4 64-bit",
   "language": "python",
   "name": "python3"
  },
  "language_info": {
   "codemirror_mode": {
    "name": "ipython",
    "version": 3
   },
   "file_extension": ".py",
   "mimetype": "text/x-python",
   "name": "python",
   "nbconvert_exporter": "python",
   "pygments_lexer": "ipython3",
   "version": "3.10.4"
  },
  "orig_nbformat": 4
 },
 "nbformat": 4,
 "nbformat_minor": 2
}
