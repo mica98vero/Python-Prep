{
 "cells": [
  {
   "cell_type": "markdown",
   "metadata": {},
   "source": [
    "1) Crear una variable que contenga un elemento del conjunto de números enteros y luego imprimir por pantalla si es mayor o menor a cero\n"
   ]
  },
  {
   "cell_type": "code",
   "execution_count": 10,
   "metadata": {},
   "outputs": [
    {
     "name": "stdout",
     "output_type": "stream",
     "text": [
      "El número es menor que cero\n"
     ]
    }
   ],
   "source": [
    "a = -20\n",
    "if (a>0):\n",
    "  print('El número es mayor que cero')\n",
    "elif(a<0):\n",
    "  print('El número es menor que cero')    \n",
    "else:\n",
    "  print('El número es igual que cero')"
   ]
  },
  {
   "cell_type": "markdown",
   "metadata": {},
   "source": [
    "2) Crear dos variables y un condicional que informe si son del mismo tipo de dato"
   ]
  },
  {
   "cell_type": "code",
   "execution_count": 7,
   "metadata": {},
   "outputs": [
    {
     "name": "stdout",
     "output_type": "stream",
     "text": [
      "Son el mismo tipo de dato:  <class 'int'>\n"
     ]
    }
   ],
   "source": [
    "b = 32\n",
    "c = 5\n",
    "if ( type(b) == type (c)):\n",
    "  print ('Son el mismo tipo de dato:','',type(b))\n",
    "\n",
    "else:\n",
    "    print('No son el mismo tipo de dato')"
   ]
  },
  {
   "cell_type": "markdown",
   "metadata": {},
   "source": [
    "3) Para los valores enteros del 1 al 20, imprimir por pantalla si es par o impar"
   ]
  },
  {
   "cell_type": "code",
   "execution_count": 17,
   "metadata": {},
   "outputs": [
    {
     "name": "stdout",
     "output_type": "stream",
     "text": [
      "1  es impar\n",
      "2  es par\n",
      "3  es impar\n",
      "4  es par\n",
      "5  es impar\n",
      "6  es par\n",
      "7  es impar\n",
      "8  es par\n",
      "9  es impar\n",
      "10  es par\n",
      "11  es impar\n",
      "12  es par\n",
      "13  es impar\n",
      "14  es par\n",
      "15  es impar\n",
      "16  es par\n",
      "17  es impar\n",
      "18  es par\n",
      "19  es impar\n",
      "20  es par\n",
      "Otra letra\n",
      "Letra  h\n"
     ]
    }
   ],
   "source": [
    "for d in range(1,21):\n",
    "    if( d%2 == 0):\n",
    "        print(d,'','es par')\n",
    "    else:\n",
    "        print(d,'','es impar')    \n",
    "\n",
    "d1 = 'ahora'\n",
    "for d2 in d1:\n",
    "    if( d2 == 'h'):\n",
    "        print('Letra ',d2)\n",
    "        break #Si encuentro lo que estoy buscando cortá.\n",
    "    else:\n",
    "        print('Otra letra')"
   ]
  },
  {
   "cell_type": "markdown",
   "metadata": {},
   "source": [
    "4) En un ciclo for mostrar para los valores entre 0 y 5 el resultado de elevarlo a la potencia igual a 3"
   ]
  },
  {
   "cell_type": "code",
   "execution_count": 21,
   "metadata": {},
   "outputs": [
    {
     "name": "stdout",
     "output_type": "stream",
     "text": [
      "0 ^ 3 = 0\n",
      "1 ^ 3 = 1\n",
      "2 ^ 3 = 8\n",
      "3 ^ 3 = 27\n",
      "4 ^ 3 = 64\n",
      "5 ^ 3 = 125\n",
      "Valor: 0  Elevado a la 3ra potencia: 0\n",
      "Valor: 1  Elevado a la 3ra potencia: 1\n",
      "Valor: 2  Elevado a la 3ra potencia: 8\n",
      "Valor: 3  Elevado a la 3ra potencia: 27\n",
      "Valor: 4  Elevado a la 3ra potencia: 64\n",
      "Valor: 5  Elevado a la 3ra potencia: 125\n"
     ]
    }
   ],
   "source": [
    "for e in range(0,6):\n",
    "    print(e,'^ 3 =',(e)**3)\n",
    "for e in range(0,6):\n",
    "    print('Valor:', str(e), ' Elevado a la 3ra potencia:', str(e**3))"
   ]
  },
  {
   "cell_type": "markdown",
   "metadata": {},
   "source": [
    "5) Crear una variable que contenga un número entero y realizar un ciclo for la misma cantidad de ciclos"
   ]
  },
  {
   "cell_type": "code",
   "execution_count": 22,
   "metadata": {},
   "outputs": [
    {
     "name": "stdout",
     "output_type": "stream",
     "text": [
      "5\n"
     ]
    }
   ],
   "source": [
    "f = 6\n",
    "for g in range(f):\n",
    "    pass #Se suele escribir para no realizar ninguna acción.\n",
    "print(g)"
   ]
  },
  {
   "cell_type": "markdown",
   "metadata": {},
   "source": [
    "6) Utilizar un ciclo while para realizar el factorial de un número guardado en una variable, sólo si la variable contiene un número entero mayor a 0"
   ]
  },
  {
   "cell_type": "code",
   "execution_count": 35,
   "metadata": {},
   "outputs": [
    {
     "name": "stdout",
     "output_type": "stream",
     "text": [
      "El factorial de  6  es: 720\n"
     ]
    }
   ],
   "source": [
    "h = 6\n",
    "h1 = h\n",
    "if(type(h)== int): #Valida si h es entero.\n",
    "    if(h > 0):  #Valida si h es mayor a 0.\n",
    "        factorial = h #Variable que va a guardar el dato del factorial\n",
    "        while (h>2): #Tiene que ser más grande que 2 porque no tiene sentido sacar el factorial de 2.\n",
    "             h -= 1 #Se va restando la variable\n",
    "             factorial *= h #Se va multiplicando\n",
    "        print('El factorial de ',h1,' es:', factorial)\n",
    "    else: #Si no se cumple que la variable > 0\n",
    "        print('La variable no es mayor a cero.')\n",
    "else: #Si no se cumple que la variable sea un entero\n",
    "    print('La variable no es un entero.')\n"
   ]
  },
  {
   "cell_type": "markdown",
   "metadata": {},
   "source": [
    "7) Crear un ciclo for dentro de un ciclo while"
   ]
  },
  {
   "cell_type": "code",
   "execution_count": 38,
   "metadata": {},
   "outputs": [
    {
     "name": "stdout",
     "output_type": "stream",
     "text": [
      "1 ° vez.\n",
      "0\n",
      "1\n",
      "2 ° vez.\n",
      "0\n",
      "1\n",
      "3 ° vez.\n",
      "0\n",
      "1\n"
     ]
    }
   ],
   "source": [
    "j = 1\n",
    "while (j<=3):\n",
    "    print(j,'° vez.')\n",
    "    for k in range(0,2):\n",
    "        print(k)\n",
    "    j+=1"
   ]
  },
  {
   "cell_type": "code",
   "execution_count": 39,
   "metadata": {},
   "outputs": [
    {
     "name": "stdout",
     "output_type": "stream",
     "text": [
      "Ciclo while nro 2\n",
      "Ciclo for nro 1\n",
      "Ciclo while nro 3\n",
      "Ciclo for nro 1\n",
      "Ciclo while nro 3\n",
      "Ciclo for nro 2\n",
      "Ciclo while nro 4\n",
      "Ciclo for nro 1\n",
      "Ciclo while nro 4\n",
      "Ciclo for nro 2\n",
      "Ciclo while nro 4\n",
      "Ciclo for nro 3\n",
      "Ciclo while nro 5\n",
      "Ciclo for nro 1\n",
      "Ciclo while nro 5\n",
      "Ciclo for nro 2\n",
      "Ciclo while nro 5\n",
      "Ciclo for nro 3\n",
      "Ciclo while nro 5\n",
      "Ciclo for nro 4\n"
     ]
    }
   ],
   "source": [
    "n = 0\n",
    "while(n < 5): #El que corta es el while\n",
    "    n += 1\n",
    "    for i in range(1,n):\n",
    "        print('Ciclo while nro ' + str(n))\n",
    "        print('Ciclo for nro ' + str(i))\n",
    "#Recién se comienza a imprimir en el while nro 2, porque recién entra en el for cuando\n",
    "#el rango es (1,2).\n",
    "    "
   ]
  },
  {
   "cell_type": "markdown",
   "metadata": {},
   "source": [
    "8) Crear un ciclo while dentro de un ciclo for"
   ]
  },
  {
   "cell_type": "code",
   "execution_count": 28,
   "metadata": {},
   "outputs": [
    {
     "name": "stdout",
     "output_type": "stream",
     "text": [
      "1 ° iteracción con for.\n",
      "Iteración con While\n",
      "Iteración con While\n",
      "Iteración con While\n",
      "2 ° iteracción con for.\n",
      "Iteración con While\n",
      "Iteración con While\n",
      "Iteración con While\n",
      "3 ° iteracción con for.\n",
      "Iteración con While\n",
      "Iteración con While\n",
      "Iteración con While\n",
      "4 ° iteracción con for.\n",
      "Iteración con While\n",
      "Iteración con While\n",
      "Iteración con While\n"
     ]
    }
   ],
   "source": [
    "for l in range(0,4):\n",
    "    m = 0\n",
    "    print(l+1,'° iteracción con for.')\n",
    "    while(m<=2):\n",
    "        print('Iteración con While')\n",
    "        m +=1"
   ]
  },
  {
   "cell_type": "code",
   "execution_count": 54,
   "metadata": {},
   "outputs": [
    {
     "name": "stdout",
     "output_type": "stream",
     "text": [
      "Ciclo while nro 1\n",
      "Ciclo while nro 2\n",
      "Ciclo while nro 3\n",
      "Ciclo while nro 4\n",
      "Ciclo while nro 5\n",
      "Ciclo for nro 0\n",
      "Ciclo for nro 1\n",
      "Ciclo for nro 2\n",
      "Ciclo for nro 3\n",
      "Ciclo for nro 4\n"
     ]
    }
   ],
   "source": [
    "n = 0\n",
    "for i in range(n,5):\n",
    "    while(n < 5):\n",
    "        n += 1\n",
    "        print('Ciclo while nro ' + str(n))\n",
    "    print('Ciclo for nro ' + str(i))\n",
    "#For tiene un rango determinado para trabajar, el while tiene una condición de corte\n",
    "#SIEMPRE CORROBORAR LA CONDICIÓN DE CORTE FUNCIONE."
   ]
  },
  {
   "cell_type": "markdown",
   "metadata": {},
   "source": [
    "9) Imprimir los números primos existentes entre 0 y 30"
   ]
  },
  {
   "cell_type": "code",
   "execution_count": 9,
   "metadata": {},
   "outputs": [
    {
     "name": "stdout",
     "output_type": "stream",
     "text": [
      "El número 1 es primo\n",
      "El número 2 es primo\n",
      "El número 3 es primo\n",
      "El número 5 es primo\n",
      "El número 7 es primo\n",
      "El número 11 es primo\n",
      "El número 13 es primo\n",
      "El número 17 es primo\n",
      "El número 19 es primo\n",
      "El número 23 es primo\n",
      "El número 29 es primo\n"
     ]
    }
   ],
   "source": [
    "min = 1\n",
    "max = 30\n",
    "for n in range(min, (max + 1)): #max+1 para no excluir al 30\n",
    "    primo = True #Variable con valor de verdad\n",
    "    o = 2 \n",
    "    while(o < n): #Si se cumple la condición entra, sino va directo al if(primo)\n",
    "        if (n % o == 0): #Si el resto es igual a cero entra, sino o se le suma uno y vuelve al comienzo de while\n",
    "            primo = False #Valor falso se saltea el If(primo)\n",
    "            break #Sale del while\n",
    "        o += 1 #vuelve al while\n",
    "    if (primo): #primo tiene la variable verdadera entonces entra directo.\n",
    "        print('El número', n, 'es primo')"
   ]
  },
  {
   "cell_type": "markdown",
   "metadata": {},
   "source": [
    "10) ¿Se puede mejorar el proceso del punto 9? Utilizar las sentencias break y/ó continue para tal fin"
   ]
  },
  {
   "cell_type": "code",
   "execution_count": 2,
   "metadata": {},
   "outputs": [
    {
     "name": "stdout",
     "output_type": "stream",
     "text": [
      "0\n",
      "1\n",
      "2\n",
      "3\n",
      "5\n",
      "7\n",
      "11\n",
      "13\n",
      "17\n",
      "19\n",
      "23\n",
      "29\n"
     ]
    }
   ],
   "source": [
    "tope_rango=30\n",
    "n = 0\n",
    "primo = True\n",
    "while (n < tope_rango):\n",
    "    for div in range(2, n):\n",
    "        if (n % div == 0):\n",
    "            primo = False\n",
    "            break\n",
    "    if (primo):\n",
    "        print(n)\n",
    "    else:\n",
    "        primo = True\n",
    "    n += 1"
   ]
  },
  {
   "cell_type": "markdown",
   "metadata": {},
   "source": [
    "11) En los puntos 9 y 10, se diseño un código que encuentra números primos y además se lo optimizó. ¿Es posible saber en qué medida se optimizó?"
   ]
  },
  {
   "cell_type": "code",
   "execution_count": 3,
   "metadata": {},
   "outputs": [
    {
     "name": "stdout",
     "output_type": "stream",
     "text": [
      "0\n",
      "1\n",
      "2\n",
      "3\n",
      "5\n",
      "7\n",
      "11\n",
      "13\n",
      "17\n",
      "19\n",
      "23\n",
      "29\n",
      "Cantidad de ciclos: 378\n"
     ]
    }
   ],
   "source": [
    "ciclos_sin_break = 0\n",
    "n = 0\n",
    "primo = True\n",
    "while (n < tope_rango):\n",
    "    for div in range(2, n):\n",
    "        ciclos_sin_break += 1 #contador de la cantidad de veces que corre while\n",
    "        if (n % div == 0):\n",
    "            primo = False\n",
    "    if (primo):\n",
    "        print(n)\n",
    "    else:\n",
    "        primo = True\n",
    "    n += 1\n",
    "print('Cantidad de ciclos: ' + str(ciclos_sin_break))"
   ]
  },
  {
   "cell_type": "code",
   "execution_count": 7,
   "metadata": {},
   "outputs": [
    {
     "name": "stdout",
     "output_type": "stream",
     "text": [
      "0\n",
      "1\n",
      "2\n",
      "3\n",
      "5\n",
      "7\n",
      "11\n",
      "13\n",
      "17\n",
      "19\n",
      "23\n",
      "29\n",
      "31\n",
      "37\n",
      "41\n",
      "43\n",
      "47\n",
      "53\n",
      "59\n",
      "61\n",
      "67\n",
      "71\n",
      "73\n",
      "79\n",
      "83\n",
      "89\n",
      "97\n",
      "Cantidad de ciclos: 1132\n",
      "Se optimizó a un 0.2381653692404797% de ciclos aplicando break\n"
     ]
    }
   ],
   "source": [
    "ciclos_con_break = 0\n",
    "n = 0\n",
    "primo = True\n",
    "while (n < tope_rango):\n",
    "    for div in range(2, n):\n",
    "        ciclos_con_break += 1\n",
    "        if (n % div == 0):\n",
    "            primo = False\n",
    "            break\n",
    "    if (primo):\n",
    "        print(n)\n",
    "    else:\n",
    "        primo = True\n",
    "    n += 1\n",
    "print('Cantidad de ciclos: ' + str(ciclos_con_break))\n",
    "print('Se optimizó a un ' + str(ciclos_con_break/ciclos_sin_break) + '% de ciclos aplicando break')"
   ]
  },
  {
   "cell_type": "markdown",
   "metadata": {},
   "source": [
    "12) Si la cantidad de números que se evalúa es mayor a treinta, esa optimización crece?"
   ]
  },
  {
   "cell_type": "code",
   "execution_count": 5,
   "metadata": {},
   "outputs": [
    {
     "name": "stdout",
     "output_type": "stream",
     "text": [
      "0\n",
      "1\n",
      "2\n",
      "3\n",
      "5\n",
      "7\n",
      "11\n",
      "13\n",
      "17\n",
      "19\n",
      "23\n",
      "29\n",
      "31\n",
      "37\n",
      "41\n",
      "43\n",
      "47\n",
      "53\n",
      "59\n",
      "61\n",
      "67\n",
      "71\n",
      "73\n",
      "79\n",
      "83\n",
      "89\n",
      "97\n",
      "Cantidad de ciclos: 4753\n"
     ]
    }
   ],
   "source": [
    "tope_rango=100\n",
    "ciclos_sin_break = 0\n",
    "n = 0\n",
    "primo = True\n",
    "while (n < tope_rango):\n",
    "    for div in range(2, n):\n",
    "        ciclos_sin_break += 1\n",
    "        if (n % div == 0):\n",
    "            primo = False\n",
    "    if (primo):\n",
    "        print(n)\n",
    "    else:\n",
    "        primo = True\n",
    "    n += 1\n",
    "print('Cantidad de ciclos: ' + str(ciclos_sin_break))"
   ]
  },
  {
   "cell_type": "markdown",
   "metadata": {},
   "source": [
    "13) Aplicando continue, armar un ciclo while que solo imprima los valores divisibles por 12, dentro del rango de números de 100 a 300"
   ]
  },
  {
   "cell_type": "code",
   "execution_count": 57,
   "metadata": {},
   "outputs": [
    {
     "name": "stdout",
     "output_type": "stream",
     "text": [
      "108  es divisible por 12\n",
      "120  es divisible por 12\n",
      "132  es divisible por 12\n",
      "144  es divisible por 12\n",
      "156  es divisible por 12\n",
      "168  es divisible por 12\n",
      "180  es divisible por 12\n",
      "192  es divisible por 12\n",
      "204  es divisible por 12\n",
      "216  es divisible por 12\n",
      "228  es divisible por 12\n",
      "240  es divisible por 12\n",
      "252  es divisible por 12\n",
      "264  es divisible por 12\n",
      "276  es divisible por 12\n",
      "288  es divisible por 12\n",
      "300  es divisible por 12\n"
     ]
    }
   ],
   "source": [
    "n = 99 #Si voy de 100 a 300 comienzo desde 99\n",
    "while(n <= 300): #Condición: si n es menor o igual a 300 se va a seguir ejecutando el while.\n",
    "    n+=1 #Define el corte de while. Cada vez que pasa por acá va a sumar 1\n",
    "    if (n % 12 != 0): #Valida si el número es divisible por 12\n",
    "        continue #Si no se cumple,indica que cotinué\n",
    "    print(n, ' es divisible por 12')"
   ]
  },
  {
   "cell_type": "markdown",
   "metadata": {},
   "source": [
    "14) Utilizar la función **input()** que permite hacer ingresos por teclado, para encontrar números primos y dar la opción al usario de buscar el siguiente"
   ]
  },
  {
   "cell_type": "code",
   "execution_count": 21,
   "metadata": {},
   "outputs": [
    {
     "name": "stdout",
     "output_type": "stream",
     "text": [
      "1\n",
      "¿Desea encontrar el siguiente número primo?\n",
      "2\n",
      "¿Desea encontrar el siguiente número primo?\n",
      "3\n",
      "¿Desea encontrar el siguiente número primo?\n",
      "5\n",
      "¿Desea encontrar el siguiente número primo?\n",
      "7\n",
      "¿Desea encontrar el siguiente número primo?\n",
      "11\n",
      "¿Desea encontrar el siguiente número primo?\n",
      "13\n",
      "¿Desea encontrar el siguiente número primo?\n",
      "17\n",
      "¿Desea encontrar el siguiente número primo?\n",
      "Se finaliza el proceso\n"
     ]
    }
   ],
   "source": [
    "#Cada vez que ingresas 1, el programa te tira el siguiente nro primo\n",
    "n = 1\n",
    "sigue = 1\n",
    "primo = True\n",
    "while (sigue == 1):\n",
    "    for div in range(2, n):\n",
    "        if (n % div == 0):\n",
    "            primo = False\n",
    "            break\n",
    "    if (primo):\n",
    "        print(n)\n",
    "        print('¿Desea encontrar el siguiente número primo?')\n",
    "        if (input() != '1'): #Ingreso por teclado, si es diferente a 1 finaliza el programa.\n",
    "            print('Se finaliza el proceso')\n",
    "            break\n",
    "    else:\n",
    "        primo = True\n",
    "    n += 1"
   ]
  },
  {
   "cell_type": "markdown",
   "metadata": {},
   "source": [
    "15) Crear un ciclo while que encuentre dentro del rango de 100 a 300 el primer número divisible por 3 y además múltiplo de 6"
   ]
  },
  {
   "cell_type": "code",
   "execution_count": 63,
   "metadata": {},
   "outputs": [
    {
     "name": "stdout",
     "output_type": "stream",
     "text": [
      "El número es:  102\n"
     ]
    }
   ],
   "source": [
    "n = 100\n",
    "while(n<=300):\n",
    "    if (n % 6 == 0):\n",
    "        print('El número es: ', str(n))\n",
    "        break\n",
    "    n += 1"
   ]
  }
 ],
 "metadata": {
  "interpreter": {
   "hash": "be8ebe292a6fb22f2c19ec4d5075a38adaba2a2c1e51ef08f8bc0ed916701165"
  },
  "kernelspec": {
   "display_name": "Python 3.10.4 64-bit",
   "language": "python",
   "name": "python3"
  },
  "language_info": {
   "codemirror_mode": {
    "name": "ipython",
    "version": 3
   },
   "file_extension": ".py",
   "mimetype": "text/x-python",
   "name": "python",
   "nbconvert_exporter": "python",
   "pygments_lexer": "ipython3",
   "version": "3.10.4"
  },
  "orig_nbformat": 4
 },
 "nbformat": 4,
 "nbformat_minor": 2
}
