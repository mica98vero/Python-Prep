{
 "cells": [
  {
   "cell_type": "markdown",
   "metadata": {},
   "source": [
    "   En matemáticas, la palabra capicúa (del catalán cap i cua, 'cabeza y cola')​ \n",
    "    se refiere a cualquier número que se lee igual de izquierda a derecha que \n",
    "    de derecha a izquierda. Se denominan también números palíndromos.\n",
    "    Esta función devuelve el valor booleano True si el número es capicúa, de lo contrario\n",
    "    devuelve el valor booleano False \n",
    "    En caso de que el parámetro no sea de tipo entero, debe retornar nulo.\n",
    "    Recibe un argumento:\n",
    "        numero: Será el número sobre el que se evaluará si es capicúa o no lo es.\n",
    "    Ej:\n",
    "        NumeroCapicua(787) debe retornar True\n",
    "        NumeroCapicua(108) debe retornar False"
   ]
  },
  {
   "cell_type": "code",
   "execution_count": 2,
   "metadata": {},
   "outputs": [],
   "source": [
    "def NumeroCapicua(numero):\n",
    "          \n",
    "    if(type(numero)!=int):\n",
    "        return None\n",
    "\n",
    "    numero = str(numero)\n",
    "    list_num = []\n",
    "\n",
    "    for i in numero:\n",
    "        list_num.append(i)\n",
    "    list_reversed = list(reversed(list_num))\n",
    "    \n",
    "    if (list_num != list_reversed):\n",
    "        return False\n",
    "\n",
    "    return True"
   ]
  },
  {
   "cell_type": "code",
   "execution_count": 4,
   "metadata": {},
   "outputs": [
    {
     "name": "stdout",
     "output_type": "stream",
     "text": [
      "True\n",
      "None\n"
     ]
    }
   ],
   "source": [
    "print(NumeroCapicua(1234))\n",
    "print(NumeroCapicua(358853))\n",
    "print(NumeroCapicua('hola'))"
   ]
  },
  {
   "cell_type": "markdown",
   "metadata": {},
   "source": [
    "Esta función devuelve el factorial del número pasado como parámetro.\n",
    "    En caso de que no sea de tipo entero y/o sea menor que 1, debe retornar nulo.\n",
    "    Recibe un argumento:\n",
    "        numero: Será el número con el que se calcule el factorial\n",
    "    Ej:\n",
    "        Factorial(4) debe retornar 24\n",
    "        Factorial(-2) debe retornar nulo"
   ]
  },
  {
   "cell_type": "code",
   "execution_count": 2,
   "metadata": {},
   "outputs": [],
   "source": [
    "def Factorial(numero):\n",
    "    \n",
    "    #Tu código aca:\n",
    "    if(type(numero)!=int):\n",
    "            return None\n",
    "    if numero <= 0:\n",
    "        return None\n",
    "    if numero > 1:\n",
    "        numero = numero*Factorial(numero-1)\n",
    "    return numero"
   ]
  },
  {
   "cell_type": "code",
   "execution_count": 3,
   "metadata": {},
   "outputs": [
    {
     "name": "stdout",
     "output_type": "stream",
     "text": [
      "720\n",
      "362880\n"
     ]
    }
   ],
   "source": [
    "print(Factorial(6))\n",
    "print(Factorial(9))"
   ]
  },
  {
   "cell_type": "markdown",
   "metadata": {},
   "source": [
    " Esta función devuelve el número primo siguiente al enviado como parámetro.\n",
    "    En caso de que el parámetro no sea de tipo entero y/o no sea un número primo, debe retornar nulo.\n",
    "    Recibe un argumento:\n",
    "        actual_primo: Será el número primo a partir del cual debo buscar el siguiente\n",
    "    Ej:\n",
    "        ProximoPrimo(7) debe retornar 11\n",
    "        ProximoPrimo(8) debe retornar nulo"
   ]
  },
  {
   "cell_type": "code",
   "execution_count": 1,
   "metadata": {},
   "outputs": [],
   "source": [
    "def ProximoPrimo(actual_primo):\n",
    "   \n",
    "    #Tu código aca:\n",
    "    contar = 0\n",
    "    contar2 = 0\n",
    "    Primo = False\n",
    "        \n",
    "    if(type(actual_primo)!=int):\n",
    "        return None\n",
    "    if (actual_primo < 1):\n",
    "        return None\n",
    "    for i in range(2, actual_primo+1):\n",
    "        if(actual_primo%i == 0):\n",
    "            contar += 1\n",
    "        if contar > 1:\n",
    "            return None\n",
    "    \n",
    "    actual_primo += 1\n",
    "    \n",
    "    while not (Primo):\n",
    "        contar2 = 0               \n",
    "        actual_primo += 1\n",
    "        for i in range(2, actual_primo+1):\n",
    "            if(actual_primo%i == 0):\n",
    "                contar2 += 1\n",
    "            \n",
    "        if(contar2 == 1):\n",
    "           sig_primo = actual_primo\n",
    "           Primo = True\n",
    "    return  sig_primo\n"
   ]
  },
  {
   "cell_type": "code",
   "execution_count": 2,
   "metadata": {},
   "outputs": [
    {
     "name": "stdout",
     "output_type": "stream",
     "text": [
      "67\n",
      "149\n",
      "None\n"
     ]
    }
   ],
   "source": [
    "print(ProximoPrimo(61))\n",
    "print(ProximoPrimo(139))\n",
    "print(ProximoPrimo(200))"
   ]
  },
  {
   "cell_type": "markdown",
   "metadata": {},
   "source": [
    "'''\n",
    "    Esta función recibe como parámetro un número entero mayor a cero y devuelva dos listas, \n",
    "    una con cada factor común y otra con su exponente, \n",
    "    esas dos listas tienen que estar contenidas en otra lista.\n",
    "    En caso de que el parámetro no sea de tipo entero y/ó mayor a cero debe retornar nulo.\n",
    "    Recibe un argumento:\n",
    "        numero: Será el número sobre el que se hará la factorización.\n",
    "    Ej:\n",
    "        factorizar_numero(12) debe retornar [[2,3],[2,1]]\n",
    "        factorizar_numero(13) debe retornar [[13],[1]]\n",
    "        factorizar_numero(14) debe retornar [[2,7],[1,1]]\n",
    "    '''"
   ]
  },
  {
   "cell_type": "code",
   "execution_count": 25,
   "metadata": {},
   "outputs": [],
   "source": [
    "\n",
    "def FactorizarNumero(numero):\n",
    "    \n",
    "    #Tu código aca:\n",
    "    fac_com = []\n",
    "    fac_expo = []\n",
    "    list1 = []\n",
    "    \n",
    "\n",
    "    if(type(numero)!=int):\n",
    "        return None\n",
    "    if (numero < 0):\n",
    "        return None\n",
    "    \n",
    "    for i in range (2, numero+1):\n",
    "        cont = 0\n",
    "        while numero % i == 0:\n",
    "\n",
    "            if not (i in fac_com):\n",
    "                fac_com.append(i)\n",
    "                fac_expo.append(1)\n",
    "            \n",
    "            elif (i in fac_com) :\n",
    "                n = fac_com.index(i)\n",
    "                fac_expo[n] = +1\n",
    "             \n",
    "            numero=numero/i\n",
    "            \n",
    "    \n",
    "    list1.append(fac_com)\n",
    "    list1.append(fac_expo)\n",
    "            \n",
    "    return list1\n"
   ]
  },
  {
   "cell_type": "code",
   "execution_count": 26,
   "metadata": {},
   "outputs": [
    {
     "name": "stdout",
     "output_type": "stream",
     "text": [
      "[[2, 5], [1, 1]]\n"
     ]
    }
   ],
   "source": [
    "print(FactorizarNumero(40))"
   ]
  },
  {
   "cell_type": "markdown",
   "metadata": {},
   "source": [
    "    Esta función recibe una lista, que puede contener elementos que a su vez sean listas y\n",
    "    devuelve esos elementos por separado en una lista única. \n",
    "    En caso de que el parámetro no sea de tipo lista, debe retornar nulo.\n",
    "    Recibe un argumento:\n",
    "        lista: La lista que puede contener otras listas y se convierte a una \n",
    "        lista de elementos únicos o no iterables.\n",
    "    Ej:\n",
    "        ListaDeListas([1,2,['a','b'],[10]]) debe retornar [1,2,'a','b',10]\n",
    "        ListaDeListas(108) debe retornar el valor nulo.\n",
    "        ListaDeListas([[1,2,[3]],[4]]) debe retornar [1,2,3,4]\n"
   ]
  },
  {
   "cell_type": "code",
   "execution_count": null,
   "metadata": {},
   "outputs": [],
   "source": [
    "\n",
    "def ListaDeListas(lista):\n",
    "    \n",
    "    #Tu código aca:\n",
    "    return 'Funcion incompleta'\n"
   ]
  },
  {
   "cell_type": "code",
   "execution_count": null,
   "metadata": {},
   "outputs": [],
   "source": []
  },
  {
   "cell_type": "markdown",
   "metadata": {},
   "source": [
    " '''\n",
    "    Esta función devuelve un objeto instanciado de la clase Vehiculo, \n",
    "    la cual debe tener los siguientes atributos:\n",
    "        Tipo:       Un valor dentro de los valores posibles: ['auto','camioneta','moto']\n",
    "        Color:      Un valor de tipo de dato string.\n",
    "        Velocidad:  Un valor de tipo de dato float, que debe inicializarse en cero.\n",
    "    y debe tener el siguiente método:\n",
    "        Acelerar(): Este método recibe un parámetro con el valor que debe incrementar a la\n",
    "                    propiedad Velocidad y luego retornarla.\n",
    "                    Si la propiedad Velocidad cobra un valor menor a cero, debe quedar en cero.\n",
    "                    Si la propiedad Velocidad cobra un valor mayor a cien, debe quedar en cien.\n",
    "    Recibe dos argumento:\n",
    "        tipo: Dato que se asignará al atributo Tipo del objeto de la clase Vehiculo\n",
    "        color: Dato que se asignará al atributo Color del objeto de la clase Vehiculo\n",
    "    Ej:\n",
    "        a = ClaseVehículo('auto','gris')\n",
    "        a.Acelerar(10) -> debe devolver 10\n",
    "        a.Acelerar(15) -> debe devolver 25\n",
    "        a.Acelerar(-10) -> debe devolver 15\n",
    "    '''"
   ]
  },
  {
   "cell_type": "code",
   "execution_count": null,
   "metadata": {},
   "outputs": [],
   "source": [
    "def ClaseVehiculo(tipo, color):\n",
    "   \n",
    "    #Tu código aca:\n",
    "    class Vehículo:\n",
    "        def __init__(self, tipo, color):\n",
    "            self.tipo = tipo\n",
    "            self.color = color\n",
    "            self.velocidad = 0\n",
    "        def Acelerar(self, vel):\n",
    "            self.velocidad += vel\n",
    "            if (self.velocidad<0):\n",
    "                self.velocidad = 0\n",
    "            if (self.velocidad>100):\n",
    "                self.velocidad = 100\n",
    "                \n",
    "            return self.velocidad\n",
    "    \n",
    "    a = Vehículo(tipo, color)    \n",
    "    return a\n"
   ]
  },
  {
   "cell_type": "code",
   "execution_count": null,
   "metadata": {},
   "outputs": [],
   "source": []
  },
  {
   "cell_type": "markdown",
   "metadata": {},
   "source": [
    "'''\n",
    "    Esta función recibe como parámetro un diccionario, cuyas listas de valores tienen el mismo\n",
    "    tamaño y sus elementos enésimos están asociados. Y otros dos parámetros que indican\n",
    "    la clave por la cual debe ordenarse y si es descendente o ascendente.\n",
    "    La función debe devolver el diccionario ordenado, teniendo en cuenta de no perder la\n",
    "    relación entre los elementos enésimos.\n",
    "    Recibe tres argumentos:\n",
    "        diccionario:    Diccionario a ordenar.\n",
    "        clave:          Clave del diccionario recibido, por la cual ordenar.\n",
    "        descendente:    Un valor booleano, que al ser verdadero indica ordenamiento ascendente y \n",
    "                        descendente si es falso. \n",
    "                        Debe tratarse de un parámetro por defecto en True.\n",
    "    Si el parámetro diccionario no es un tipo de dato diccionario ó el parámetro clave no \n",
    "    se encuentra dentro de las claves del diccionario, debe devolver nulo.\n",
    "    Ej:\n",
    "        dicc = {'clave1':['c','a','b'],\n",
    "                'clave2':['casa','auto','barco'],\n",
    "                'clave3':[1,2,3]}\n",
    "        OrdenarDiccionario(dicc, 'clave1')          debe retornar {'clave1':['a','b','c'],\n",
    "                                                                'clave2':['auto','barco','casa'],\n",
    "                                                                'clave3':[2,3,1]}\n",
    "        OrdenarDiccionario(dicc, 'clave3', False)   debe retornar {'clave1':['b','a','c'],\n",
    "                                                                'clave2':['barco','auto','casa'],\n",
    "                                                                'clave3':[3,2,1]}\n",
    "    '''"
   ]
  },
  {
   "cell_type": "code",
   "execution_count": null,
   "metadata": {},
   "outputs": [],
   "source": [
    "def OrdenarDiccionario(diccionario_par, clave, descendente=True):\n",
    "    \n",
    "    #Tu código aca:\n",
    "    return 'Funcion incompleta'  "
   ]
  },
  {
   "cell_type": "code",
   "execution_count": null,
   "metadata": {},
   "outputs": [],
   "source": []
  }
 ],
 "metadata": {
  "kernelspec": {
   "display_name": "Python 3.10.5 64-bit (windows store)",
   "language": "python",
   "name": "python3"
  },
  "language_info": {
   "codemirror_mode": {
    "name": "ipython",
    "version": 3
   },
   "file_extension": ".py",
   "mimetype": "text/x-python",
   "name": "python",
   "nbconvert_exporter": "python",
   "pygments_lexer": "ipython3",
   "version": "3.10.5"
  },
  "orig_nbformat": 4,
  "vscode": {
   "interpreter": {
    "hash": "93dac0cefe5923a3f5fe671185a1239056384d9553d26861fdf316add6918ee3"
   }
  }
 },
 "nbformat": 4,
 "nbformat_minor": 2
}
