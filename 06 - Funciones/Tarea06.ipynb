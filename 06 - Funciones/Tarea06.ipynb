{
 "cells": [
  {
   "cell_type": "markdown",
   "metadata": {},
   "source": [
    "1) Crear una función que reciba un número como parámetro y devuelva si True si es primo y False si no lo es"
   ]
  },
  {
   "cell_type": "code",
   "execution_count": 11,
   "metadata": {},
   "outputs": [
    {
     "name": "stdout",
     "output_type": "stream",
     "text": [
      "False\n"
     ]
    }
   ],
   "source": [
    "#Siempre definir la función con verbos o con lo que hace la función\n",
    "def calcular_primos(numeros):\n",
    "    #Variable local para retornar\n",
    "    _es_primo = True\n",
    "    #Número negativo, devuelvo False\n",
    "    if (numeros<=1):\n",
    "        _es_primo = False\n",
    "\n",
    "    #Itera a partir de un 2 hasta el número dado\n",
    "    for i in range(2,numeros): \n",
    "        #Si devuelve un resto cero es porque es divisible\n",
    "        if numeros%i==0:\n",
    "            _es_primo = False\n",
    "            #Rompo la iteración porque ya cumplí con mi condición\n",
    "            break\n",
    "    #Devuelvo el valor de la variable, no la variable en si\n",
    "    return _es_primo\n",
    "\n",
    "#Llamo a la función\n",
    "print(calcular_primos(1))"
   ]
  },
  {
   "cell_type": "code",
   "execution_count": 6,
   "metadata": {},
   "outputs": [
    {
     "name": "stdout",
     "output_type": "stream",
     "text": [
      "True\n"
     ]
    }
   ],
   "source": [
    "#Otra opción con input\n",
    "def primos(numero):\n",
    "    n=True\n",
    "    if(numero<=1):\n",
    "        n=False\n",
    "    else:\n",
    "        for i in range(2,numero):\n",
    "            if(numero%i==0):\n",
    "                n=False\n",
    "    return n\n",
    "\n",
    "#Tengo que castearlo porque input me devuelve un string\n",
    "numero = int(input('Ingrese numero:'))\n",
    "\n",
    "print(primos(numero))    "
   ]
  },
  {
   "cell_type": "markdown",
   "metadata": {},
   "source": [
    "2) Utilizando la función del punto 1, realizar otra función que reciba de parámetro una lista de números y devuelva sólo aquellos que son primos en otra lista"
   ]
  },
  {
   "cell_type": "code",
   "execution_count": 12,
   "metadata": {},
   "outputs": [],
   "source": [
    "#Función que recibe la lista de números\n",
    "def extrae_primos_de_lista(lista):\n",
    "    #Creo una lista local\n",
    "    lista_primos=[]\n",
    "    #Recorro la lista que recibo\n",
    "    for elemento in lista:\n",
    "        #Utilizo la función calcular si es primo o no\n",
    "        if calcular_primos(int(elemento)):\n",
    "            #Si lo es, lo agrego a la lista local\n",
    "            lista_primos.append(elemento)\n",
    "    #Retorno los valores de la lista        \n",
    "    return lista_primos"
   ]
  },
  {
   "cell_type": "code",
   "execution_count": 14,
   "metadata": {},
   "outputs": [
    {
     "data": {
      "text/plain": [
       "[2, 3, 5, 7, 11, 13, 17, 19]"
      ]
     },
     "execution_count": 14,
     "metadata": {},
     "output_type": "execute_result"
    }
   ],
   "source": [
    "lis_completa = [1,2,3,4,5,6,7,8,9,10,11,12,13,14,15,16,17,18,19,20]\n",
    "#Cargo la lista de primos a través de la función que le envió la lis_completa\n",
    "_lis_primos = extrae_primos_de_lista(lis_completa)\n",
    "_lis_primos"
   ]
  },
  {
   "cell_type": "code",
   "execution_count": 13,
   "metadata": {},
   "outputs": [
    {
     "name": "stdout",
     "output_type": "stream",
     "text": [
      "[1, 2, 3, 4, 5, 6, 7, 8, 9, 10, 11, 12, 13, 14, 15, 16, 17, 18, 19, 20]\n",
      "[2, 3, 5, 7, 11, 13, 17, 19]\n"
     ]
    }
   ],
   "source": [
    "#Otra opción. Iteración para cargar la lista\n",
    "#Declaro la Lista\n",
    "lista_numeros=[]\n",
    "\n",
    "#Cargo la lista con números de un rango\n",
    "for i in range(1,21):\n",
    "    lista_numeros.append(i)\n",
    "\n",
    "print(lista_numeros)\n",
    "\n",
    "#Cargo la lista de primos a través de la función que le envió la lista de números\n",
    "lis_primos = extrae_primos_de_lista(lista_numeros)\n",
    "\n",
    "print(lis_primos)"
   ]
  },
  {
   "cell_type": "markdown",
   "metadata": {},
   "source": [
    "3) Crear una función que al recibir una lista de números, devuelva el que más se repite y cuántas veces lo hace. Si hay más de un \"más repetido\", que devuelva cualquiera"
   ]
  },
  {
   "cell_type": "code",
   "execution_count": 15,
   "metadata": {},
   "outputs": [],
   "source": [
    "#Declaro la función\n",
    "def valor_modal(lista):\n",
    "    \n",
    "    #Lista para guardar los elementos repetidos y cuantas veces se repite.\n",
    "    lista_unicos = [] \n",
    "    lista_repeticiones = [] \n",
    "    \n",
    "    #Si no hay elementos en la lista, no devuelve nada.\n",
    "    if len(lista) == 0: \n",
    "        return None\n",
    "\n",
    "    #Recorro cada elemento de la lista    \n",
    "    for elemento in lista:\n",
    "        #Si el elemento ya está en lista_unicos\n",
    "        if elemento in lista_unicos:\n",
    "            #Busco el indice por el elmento y lo guardo en i\n",
    "            i = lista_unicos.index(elemento) \n",
    "            #Con el indice, voy a la otra lista y le sumo uno\n",
    "            lista_repeticiones[i] += 1 #Así cuento las veces que se repite\n",
    "\n",
    "        #Si el elemento no está en la lista\n",
    "        else: \n",
    "            #Agrego al final de las dos listas, tanto al elemento y a 1  \n",
    "            lista_unicos.append(elemento) #se agrega al final de la lista.\n",
    "            lista_repeticiones.append(1) #Ademas, agrego el valor 1 a las lista_repeticiones.\n",
    "    \n",
    "    #Creamos dos variables y le damos el valor del primer elemento de cada lista.\n",
    "    moda = lista_unicos[0] \n",
    "    maximo = lista_repeticiones[0] \n",
    "    \n",
    "    #Con enumerate y dos variables en el for recorremos los indices y sus valores\n",
    "    for i, elemento in enumerate(lista_unicos): \n",
    "        #Verifico si el valor guardado en [i] es mayor a maximo.\n",
    "        if lista_repeticiones[i] > maximo: \n",
    "            #Si lo es, asigno el valor del [i] de cada lista para moda y maximo.\n",
    "            moda = lista_unicos[i] \n",
    "            maximo = lista_repeticiones[i]\n",
    "\n",
    "    #Termina el bucley devuelvo el valor maximo de repeticiones junto al valor modal.        \n",
    "    return moda, maximo "
   ]
  },
  {
   "cell_type": "code",
   "execution_count": 17,
   "metadata": {},
   "outputs": [
    {
     "name": "stdout",
     "output_type": "stream",
     "text": [
      "El valor modal es 3 y se repite 4 veces.\n"
     ]
    }
   ],
   "source": [
    "lis = [2,3,4,7,3,4,2,7,2,8,3,3,5,1]\n",
    "moda, repite = valor_modal(lis)\n",
    "print('El valor modal es', moda, 'y se repite', repite, 'veces.')"
   ]
  },
  {
   "cell_type": "code",
   "execution_count": 18,
   "metadata": {},
   "outputs": [
    {
     "name": "stdout",
     "output_type": "stream",
     "text": [
      "(2, 7)\n"
     ]
    }
   ],
   "source": [
    "#Sin bucle for al final\n",
    "def valores_repetidos(lista):\n",
    "    #Lista para guardar los elementos repetidos y cuantas veces se repite.\n",
    "    lista_unicos=[] \n",
    "    lista_repeticiones=[] \n",
    "    \n",
    "    #Recorro la lista\n",
    "    for c in lista: \n",
    "        #Si no está en la lista\n",
    "        if(not(c in lista_unicos)):\n",
    "            #Agrego al final de las dos listas, tanto al elemento y a 1\n",
    "            lista_unicos.append(c) \n",
    "            lista_repeticiones.append(1) \n",
    "\n",
    "        #Si está en la lista\n",
    "        else: \n",
    "            #busco y guardo el valor del índice\n",
    "            i=lista_unicos.index(c)\n",
    "            #A ese indice i del lista_repeticiones. Le vamos a sumar uno.\n",
    "            lista_repeticiones[i]+=1 \n",
    "    \n",
    "    #Busco el max de esa lista y lo guardo en la variable\n",
    "    repeticiones = max(lista_repeticiones) \n",
    "    #Utilizo el valor de repeticiones para buscar el indice.\n",
    "    moda=lista_unicos[lista_repeticiones.index(repeticiones)] \n",
    "    \n",
    "    return moda,repeticiones\n",
    "\n",
    "lista_prueba = [1,1,2,2,2,2,3,4,4,4,4,4,1,2,2,5,2,6,1]\n",
    "print(valores_repetidos(lista_prueba))"
   ]
  },
  {
   "cell_type": "markdown",
   "metadata": {},
   "source": [
    "4) A la función del punto 3, agregar un parámetro más, que permita elegir si se requiere el menor o el mayor de los mas repetidos."
   ]
  },
  {
   "cell_type": "code",
   "execution_count": 29,
   "metadata": {},
   "outputs": [
    {
     "name": "stdout",
     "output_type": "stream",
     "text": [
      "([1, 8, 9], 3)\n"
     ]
    }
   ],
   "source": [
    "#Para devolver el menor valor repetido\n",
    "def valores_repetidos_menor(lista, menor):\n",
    "    lista_unicos = []\n",
    "    lista_repeticiones = []\n",
    "    for c in lista:\n",
    "        if(not(c in lista_unicos)): #Si no está en la lista\n",
    "            lista_unicos.append(c)\n",
    "            lista_repeticiones.append(1)\n",
    "\n",
    "        else:\n",
    "            i=lista_unicos.index(c)\n",
    "            lista_repeticiones[i]+=1\n",
    "\n",
    "    repeticiones = max(lista_repeticiones) #Este máximo puede estar repetido\n",
    "    moda = [] #Otra lista, porque puedo tener más de un número que se repite la misma cantidad de veces\n",
    "        \n",
    "    for i,c in enumerate(lista_repeticiones):\n",
    "\n",
    "        if(c==repeticiones):\n",
    "            moda.append(lista_unicos[i]) \n",
    "\n",
    "    if (menor):\n",
    "        moda.sort()\n",
    "        moda=moda[0]\n",
    "        return moda,repeticiones    \n",
    "\n",
    "    return moda,repeticiones\n",
    "\n",
    "lista2=[1,1,1,5,6,7,8,8,8,9,9,9]\n",
    "print(valores_repetidos_menor(lista2,False))"
   ]
  },
  {
   "cell_type": "code",
   "execution_count": 30,
   "metadata": {},
   "outputs": [],
   "source": [
    "def valor_modal(lista, menor):\n",
    "    '''\n",
    "    Esta función devuelve el valor modal y recibe de parámetros dos valores:\n",
    "    1-Una lista de números\n",
    "    2-Verdadero (por defecto) por si se requiere el mínimo de los más repetidos, o Falso si se requiere el máximo\n",
    "    '''\n",
    "    lista_unicos = []\n",
    "    lista_repeticiones = []\n",
    "    if len(lista) == 0:\n",
    "        return None\n",
    "    if (menor):\n",
    "        lista.sort()\n",
    "    else:\n",
    "        lista.sort(reverse=True)\n",
    "    for elemento in lista:\n",
    "        if elemento in lista_unicos:\n",
    "            i = lista_unicos.index(elemento)\n",
    "            lista_repeticiones[i] += 1\n",
    "        else:\n",
    "            lista_unicos.append(elemento)\n",
    "            lista_repeticiones.append(1)\n",
    "    moda = lista_unicos[0]\n",
    "    maximo = lista_repeticiones[0]\n",
    "    for i, elemento in enumerate(lista_unicos):\n",
    "        if lista_repeticiones[i] > maximo:\n",
    "            moda = lista_unicos[i]\n",
    "            maximo = lista_repeticiones[i]\n",
    "    return moda, maximo"
   ]
  },
  {
   "cell_type": "code",
   "execution_count": 31,
   "metadata": {},
   "outputs": [
    {
     "name": "stdout",
     "output_type": "stream",
     "text": [
      "El valor modal es 5 y se repite 3 veces.\n"
     ]
    }
   ],
   "source": [
    "lis = [10,1,5,6,8,10,22,5,6,4,11,10,9,5]\n",
    "moda, repite = valor_modal(lis, True)\n",
    "print('El valor modal es', moda, 'y se repite', repite, 'veces.')"
   ]
  },
  {
   "cell_type": "markdown",
   "metadata": {},
   "source": [
    "5) Crear una función que convierta entre grados Celsius, Farenheit y Kelvin<br>\n",
    "Fórmula 1\t: (°C × 9/5) + 32 = °F<br>\n",
    "Fórmula 2\t: °C + 273.15 = °K<br>\n",
    "Debe recibir 3 parámetros: el valor, la medida de orígen y la medida de destino"
   ]
  },
  {
   "cell_type": "code",
   "execution_count": 19,
   "metadata": {},
   "outputs": [],
   "source": [
    "def conversion_grados(valor, origen, destino): #La función recibe un valor de un número, con un sistema de medición y en que lo con\n",
    "    \n",
    "    if (origen == 'celsius'): #Si el origen es celsius\n",
    "        if (destino == 'celsius'): #Y el destino es celsius\n",
    "            valor_destino = valor  #No commbierto nada\n",
    "        \n",
    "        elif (destino == 'farenheit'): #Si el destino es farenheit\n",
    "            valor_destino = (valor * 9 / 5) + 32 #Lo convierto con la formula\n",
    "        \n",
    "        elif (destino == 'kelvin'): #Si el destino es Kelvin\n",
    "            valor_destino = valor + 273.15 #Lo convierto con la formula\n",
    "        \n",
    "        else:\n",
    "            print('Parámetro de Destino incorrecto') #Si el destino no coincide con ninguno impripo el texto.\n",
    "    \n",
    "    \n",
    "    elif (origen == 'farenheit'): #Si el origen es Farenheit\n",
    "        if (destino == 'celsius'): #Y el destino es celsius\n",
    "            valor_destino = (valor - 32) * 5 / 9 #Lo convierto con la formula\n",
    "\n",
    "        elif (destino == 'farenheit'): #Si el destino es farenheit\n",
    "            valor_destino = valor #No commbierto nada\n",
    "\n",
    "        elif (destino == 'kelvin'): #Si el destino es Kelvi\n",
    "            valor_destino = ((valor - 32) * 5 / 9) + 273.15 #Lo convierto con la formula\n",
    "\n",
    "        else:\n",
    "            print('Parámetro de Destino incorrecto')#Si el destino no coincide con ninguno impripo el texto.\n",
    "\n",
    "    elif (origen == 'kelvin'): #Si el origen es Kervin\n",
    "        if (destino == 'celsius'): #Y el destino es celsius\n",
    "            valor_destino = valor - 273.15 #Lo convierto con la formula\n",
    "\n",
    "        elif (destino == 'farenheit'): #Si el destino es farenheit\n",
    "            valor_destino = ((valor - 273.15) * 9 / 5) + 32 #Lo convierto con la formula\n",
    "\n",
    "        elif (destino == 'kelvin'): #Si el destino es Kelvi\n",
    "            valor_destino = valor #No convierto nada\n",
    "        else:\n",
    "            print('Parámetro de Destino incorrecto') #Si el destino no coincide con ninguno impripo el texto.\n",
    "\n",
    "    else:\n",
    "        print('Parámetro de Origen incorrecto') #Si el origen no coincide con ninguno impripo el texto.\n",
    "\n",
    "    return valor_destino #Devuelvo el valor convertido o el mismo si el origen o destino son iguales"
   ]
  },
  {
   "cell_type": "code",
   "execution_count": 20,
   "metadata": {},
   "outputs": [
    {
     "name": "stdout",
     "output_type": "stream",
     "text": [
      "1 grado Celsius a Celsius: 1\n",
      "1 grado Celsius a Kelvin: 274.15\n",
      "1 grado Celsius a Farenheit: 33.8\n",
      "1 grado Kelvin a Celsius: -272.15\n",
      "1 grado Kelvin a Kelvin: 1\n",
      "1 grado Kelvin a Farenheit: -457.87\n",
      "1 grado Farenheit a Celsius: -17.22222222222222\n",
      "1 grado Farenheit a Kelvin: 255.92777777777775\n",
      "1 grado Farenheit a Farenheit: 1\n"
     ]
    }
   ],
   "source": [
    "print('1 grado Celsius a Celsius:', conversion_grados(1, 'celsius', 'celsius'))\n",
    "print('1 grado Celsius a Kelvin:', conversion_grados(1, 'celsius', 'kelvin'))\n",
    "print('1 grado Celsius a Farenheit:', conversion_grados(1, 'celsius', 'farenheit'))\n",
    "print('1 grado Kelvin a Celsius:', conversion_grados(1, 'kelvin', 'celsius'))\n",
    "print('1 grado Kelvin a Kelvin:', conversion_grados(1, 'kelvin', 'kelvin'))\n",
    "print('1 grado Kelvin a Farenheit:', conversion_grados(1, 'kelvin', 'farenheit'))\n",
    "print('1 grado Farenheit a Celsius:', conversion_grados(1, 'farenheit', 'celsius'))\n",
    "print('1 grado Farenheit a Kelvin:', conversion_grados(1, 'farenheit', 'kelvin'))\n",
    "print('1 grado Farenheit a Farenheit:', conversion_grados(1, 'farenheit', 'farenheit'))"
   ]
  },
  {
   "cell_type": "code",
   "execution_count": 21,
   "metadata": {},
   "outputs": [
    {
     "name": "stdout",
     "output_type": "stream",
     "text": [
      "1 grado celsius a kelvin: 274.15\n"
     ]
    }
   ],
   "source": [
    "#Otra opción\n",
    "def conversion_grados_2(valor,origen,destino):\n",
    "    #Operaciones de conversión\n",
    "    celsius_farenheit = (valor*9/5)+32\n",
    "    celsius_kelvin = valor+273.15\n",
    "    farenheit_celsius = (valor-32)/(5/9)\n",
    "    farenheit_kelvin = farenheit_celsius+273.15\n",
    "    kelvin_celsius = valor-273.15\n",
    "    kelvin_farenheit = (kelvin_celsius*9/5) + 32\n",
    "\n",
    "    #Operaciones de asignación\n",
    "    #Celsius\n",
    "    if( origen == 'c' and destino == 'f'):\n",
    "        valor_destino = celsius_farenheit\n",
    "    elif( origen == 'c' and destino == 'c'):\n",
    "        valor_destino = valor\n",
    "    elif( origen == 'c' and destino == 'k'):\n",
    "        valor_destino = celsius_kelvin\n",
    "    \n",
    "    #Farenheit\n",
    "    elif( origen == 'f' and destino == 'f'):\n",
    "        valor_destino = valor\n",
    "    elif( origen == 'f' and destino == 'c'):\n",
    "        valor_destino = farenheit_celsius\n",
    "    elif( origen == 'f' and destino == 'k'):\n",
    "        valor_destino = farenheit_kelvin\n",
    "    \n",
    "    #Kelvin\n",
    "    elif( origen == 'k' and destino == 'k'):\n",
    "        valor_destino = valor\n",
    "    elif( origen == 'k' and destino == 'c'):\n",
    "        valor_destino = kelvin_celsius\n",
    "    elif( origen == 'k' and destino == 'f'):\n",
    "        valor_destino = kelvin_farenheit\n",
    "    else: return print ('Ingrese los parámetros correctos')\n",
    "     \n",
    "    return valor_destino\n",
    "print('1 grado celsius a kelvin:', conversion_grados_2(1,'c','k'))   "
   ]
  },
  {
   "cell_type": "markdown",
   "metadata": {},
   "source": [
    "6) Iterando una lista con los tres valores posibles de temperatura que recibe la función del punto 5, hacer un print para cada combinación de los mismos:"
   ]
  },
  {
   "cell_type": "code",
   "execution_count": 22,
   "metadata": {},
   "outputs": [
    {
     "name": "stdout",
     "output_type": "stream",
     "text": [
      "1 grado celsius a celsius : 1\n",
      "1 grado celsius a kelvin : 274.15\n",
      "1 grado celsius a farenheit : 33.8\n",
      "1 grado kelvin a celsius : -272.15\n",
      "1 grado kelvin a kelvin : 1\n",
      "1 grado kelvin a farenheit : -457.87\n",
      "1 grado farenheit a celsius : -17.22222222222222\n",
      "1 grado farenheit a kelvin : 255.92777777777775\n",
      "1 grado farenheit a farenheit : 1\n"
     ]
    }
   ],
   "source": [
    "metricas = ['celsius','kelvin','farenheit']\n",
    "for i in range(0,3):\n",
    "    for j in range(0,3):\n",
    "        print('1 grado', metricas[i], 'a', metricas[j],':', conversion_grados(1, metricas[i], metricas[j]))"
   ]
  },
  {
   "cell_type": "markdown",
   "metadata": {},
   "source": [
    "7) Armar una función que devuelva el factorial de un número. Tener en cuenta que el usuario puede equivocarse y enviar de parámetro un número no entero o negativo"
   ]
  },
  {
   "cell_type": "code",
   "execution_count": 23,
   "metadata": {},
   "outputs": [
    {
     "name": "stdout",
     "output_type": "stream",
     "text": [
      "6\n",
      "El numero debe ser positivo\n",
      "El numero debe ser un entero\n",
      "El numero debe ser un entero\n"
     ]
    }
   ],
   "source": [
    "def factorial(numero):\n",
    "    if(type(numero) != int):\n",
    "        return 'El numero debe ser un entero'\n",
    "    if(numero < 0):\n",
    "        return 'El numero debe ser positivo'\n",
    "    if (numero > 1):\n",
    "        numero = numero * factorial(numero - 1)\n",
    "    return numero\n",
    "print(factorial(3))\n",
    "print(factorial(-2))\n",
    "print(factorial(1.23))\n",
    "print(factorial('6'))"
   ]
  },
  {
   "cell_type": "code",
   "execution_count": 30,
   "metadata": {},
   "outputs": [
    {
     "name": "stdout",
     "output_type": "stream",
     "text": [
      "Ratón\n",
      "2\n",
      "Liebre\n",
      "3\n",
      "Hola, soy Ratón , de color Marrón  y tengo 2  años\n",
      "Hola, soy Liebre , de color Gris  y tengo 4  años\n"
     ]
    }
   ],
   "source": [
    "class Animal:\n",
    "    def __init__(self, especie, edad, color):\n",
    "        self.especie = especie\n",
    "        self.edad = edad\n",
    "        self.color = color\n",
    "\n",
    "    def mePresento(self):\n",
    "        print('Hola, soy', self.especie,', de color', self.color,' y tengo', self.edad,' años')\n",
    "    \n",
    "    def cumplirAños(self):\n",
    "        self.edad = self.edad + 1\n",
    "\n",
    "a1 = Animal('Ratón', 2,'Marrón')\n",
    "a2 = Animal('Liebre', 3,'Gris')\n",
    "\n",
    "print(a1.especie)\n",
    "print(a1.edad)\n",
    "print(a2.especie)\n",
    "print(a2.edad)\n",
    "\n",
    "a1.mePresento()\n",
    "a2.cumplirAños()\n",
    "a2.mePresento()"
   ]
  }
 ],
 "metadata": {
  "interpreter": {
   "hash": "be8ebe292a6fb22f2c19ec4d5075a38adaba2a2c1e51ef08f8bc0ed916701165"
  },
  "kernelspec": {
   "display_name": "Python 3.10.4 64-bit",
   "language": "python",
   "name": "python3"
  },
  "language_info": {
   "codemirror_mode": {
    "name": "ipython",
    "version": 3
   },
   "file_extension": ".py",
   "mimetype": "text/x-python",
   "name": "python",
   "nbconvert_exporter": "python",
   "pygments_lexer": "ipython3",
   "version": "3.10.4"
  },
  "orig_nbformat": 4
 },
 "nbformat": 4,
 "nbformat_minor": 2
}
