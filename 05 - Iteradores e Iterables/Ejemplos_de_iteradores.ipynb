{
 "cells": [
  {
   "cell_type": "markdown",
   "metadata": {},
   "source": [
    "# EJEMPLOS"
   ]
  },
  {
   "cell_type": "code",
   "execution_count": 2,
   "metadata": {},
   "outputs": [],
   "source": [
    "mi_lista=['Paris','Toronto','New York','Buenos Aires','San Pablo'] #Lista con la que trabajo"
   ]
  },
  {
   "cell_type": "code",
   "execution_count": 3,
   "metadata": {},
   "outputs": [
    {
     "name": "stdout",
     "output_type": "stream",
     "text": [
      "5\n"
     ]
    }
   ],
   "source": [
    "print(len(mi_lista)) #Me devuelve el tamaño de la estructura de datos"
   ]
  },
  {
   "cell_type": "markdown",
   "metadata": {},
   "source": [
    "Imprime los indices de la lista"
   ]
  },
  {
   "cell_type": "code",
   "execution_count": 4,
   "metadata": {},
   "outputs": [
    {
     "name": "stdout",
     "output_type": "stream",
     "text": [
      "0\n",
      "1\n",
      "2\n",
      "3\n",
      "4\n"
     ]
    }
   ],
   "source": [
    "i=0 #Variable que utilizo para el corte del while\n",
    "while i < len(mi_lista): #Condición para recorrer el while\n",
    "     print(i)\n",
    "     i +=1 #Contador. Siempre colocar para cortar el while"
   ]
  },
  {
   "cell_type": "markdown",
   "metadata": {},
   "source": [
    "Imprime el contenido de la listas"
   ]
  },
  {
   "cell_type": "code",
   "execution_count": 5,
   "metadata": {},
   "outputs": [
    {
     "name": "stdout",
     "output_type": "stream",
     "text": [
      "Paris\n",
      "Toronto\n",
      "New York\n",
      "Buenos Aires\n",
      "San Pablo\n"
     ]
    }
   ],
   "source": [
    "i=0\n",
    "while i < len(mi_lista):\n",
    "     print(mi_lista[i])\n",
    "     i +=1"
   ]
  },
  {
   "cell_type": "code",
   "execution_count": 6,
   "metadata": {},
   "outputs": [
    {
     "name": "stdout",
     "output_type": "stream",
     "text": [
      "Paris\n",
      "Toronto\n",
      "New York\n",
      "Buenos Aires\n",
      "San Pablo\n"
     ]
    }
   ],
   "source": [
    "for i in mi_lista: #No necestio contador porque el for trabaja en un rango determinado\n",
    "    print(i)"
   ]
  },
  {
   "cell_type": "markdown",
   "metadata": {},
   "source": [
    "Iterar la palabra Henry"
   ]
  },
  {
   "cell_type": "code",
   "execution_count": 8,
   "metadata": {},
   "outputs": [
    {
     "name": "stdout",
     "output_type": "stream",
     "text": [
      "H\n",
      "e\n",
      "n\n",
      "r\n",
      "y\n"
     ]
    }
   ],
   "source": [
    "palabra = 'Henry'\n",
    "\n",
    "for i in palabra:\n",
    "    print(i)"
   ]
  },
  {
   "cell_type": "code",
   "execution_count": 9,
   "metadata": {},
   "outputs": [
    {
     "name": "stdout",
     "output_type": "stream",
     "text": [
      "(0, 'H')\n",
      "(1, 'e')\n",
      "(2, 'n')\n",
      "(3, 'r')\n",
      "(4, 'y')\n"
     ]
    }
   ],
   "source": [
    "for i in enumerate(palabra):\n",
    "    print(i)"
   ]
  },
  {
   "cell_type": "code",
   "execution_count": 10,
   "metadata": {},
   "outputs": [
    {
     "name": "stdout",
     "output_type": "stream",
     "text": [
      "H.e.n.r.y\n"
     ]
    }
   ],
   "source": [
    "print('.'.join(palabra))"
   ]
  },
  {
   "cell_type": "markdown",
   "metadata": {},
   "source": [
    "Iterar un diccionario:"
   ]
  },
  {
   "cell_type": "code",
   "execution_count": 13,
   "metadata": {},
   "outputs": [
    {
     "name": "stdout",
     "output_type": "stream",
     "text": [
      "a\n",
      "b\n",
      "c\n",
      "2\n"
     ]
    }
   ],
   "source": [
    "mi_dict = {'a':1,'b':2,'c':3}\n",
    "for i in mi_dict:\n",
    "    print(i)\n",
    "\n",
    "print(mi_dict['b'])"
   ]
  },
  {
   "cell_type": "markdown",
   "metadata": {},
   "source": [
    "Iterar con un if"
   ]
  },
  {
   "cell_type": "code",
   "execution_count": 15,
   "metadata": {},
   "outputs": [
    {
     "name": "stdout",
     "output_type": "stream",
     "text": [
      "['m', 'm', 'm', 'm', 'm', 'm', 'm']\n",
      "7\n"
     ]
    }
   ],
   "source": [
    "frase = 'mi mamá me mima mucho'\n",
    "eme = [i for i in frase if i == 'm']\n",
    "print(eme)\n",
    "print(len(eme))"
   ]
  },
  {
   "cell_type": "markdown",
   "metadata": {},
   "source": [
    "Sentencia zip"
   ]
  },
  {
   "cell_type": "code",
   "execution_count": 16,
   "metadata": {},
   "outputs": [
    {
     "name": "stdout",
     "output_type": "stream",
     "text": [
      "[(1, 'María'), (2, 'José')]\n"
     ]
    }
   ],
   "source": [
    "lista3 = [1,2]\n",
    "lista4 = ['María','José','Carlos'] #No se imprime 'Carlos' porque no hay un tercer elemento en la lista3\n",
    "zipeado = zip(lista3,lista4)\n",
    "\n",
    "print(list(zipeado))"
   ]
  }
 ],
 "metadata": {
  "kernelspec": {
   "display_name": "Python 3.10.5 64-bit (windows store)",
   "language": "python",
   "name": "python3"
  },
  "language_info": {
   "codemirror_mode": {
    "name": "ipython",
    "version": 3
   },
   "file_extension": ".py",
   "mimetype": "text/x-python",
   "name": "python",
   "nbconvert_exporter": "python",
   "pygments_lexer": "ipython3",
   "version": "3.10.5"
  },
  "orig_nbformat": 4,
  "vscode": {
   "interpreter": {
    "hash": "93dac0cefe5923a3f5fe671185a1239056384d9553d26861fdf316add6918ee3"
   }
  }
 },
 "nbformat": 4,
 "nbformat_minor": 2
}
