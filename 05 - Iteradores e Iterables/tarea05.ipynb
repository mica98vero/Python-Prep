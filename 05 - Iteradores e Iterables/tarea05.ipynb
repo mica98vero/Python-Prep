{
 "cells": [
  {
   "cell_type": "markdown",
   "metadata": {},
   "source": [
    "1) A partir de una lista vacía, utilizar un ciclo while para cargar allí números negativos del -15 al -1"
   ]
  },
  {
   "cell_type": "code",
   "execution_count": 1,
   "metadata": {},
   "outputs": [
    {
     "name": "stdout",
     "output_type": "stream",
     "text": [
      "[-15, -14, -13, -12, -11, -10, -9, -8, -7, -6, -5, -4, -3, -2, -1]\n"
     ]
    }
   ],
   "source": [
    "lista = [] #Crear una lista vacía\n",
    "n = -15 #Comienzo desde -15 porque desde aí voy a guardar los valores\n",
    "while (n < 0): #Condicón del while\n",
    "    lista.append(n) #Acá le voy agregando valor a la lista\n",
    "    n += 1 #Incrementar para que el while finalice\n",
    "print(lista) #Imprimo la lista creada"
   ]
  },
  {
   "cell_type": "markdown",
   "metadata": {},
   "source": [
    "2) ¿Con un ciclo while sería posible recorrer la lista para imprimir sólo los números pares?"
   ]
  },
  {
   "cell_type": "code",
   "execution_count": 4,
   "metadata": {},
   "outputs": [
    {
     "name": "stdout",
     "output_type": "stream",
     "text": [
      "-14\n",
      "-12\n",
      "-10\n",
      "-8\n",
      "-6\n",
      "-4\n",
      "-2\n",
      "[-1, -2, -3, -4, -5, -6, -7, -8, -9, -10, -11, -12, -13, -14, -15]\n"
     ]
    }
   ],
   "source": [
    "n = 0 #Con esta variable voy a recorrer la lista\n",
    "while (n < len(lista)): #len() me devuelve 15, entonces n<15\n",
    "    if (lista[n] % 2 == 0): #Si el resto de la : por 2 = 0 cumple la condición\n",
    "        print(lista[n]) #Se impmrime el número alojado en ese indice\n",
    "    n += 1 #incrementa el número \n",
    "\n",
    "lista.sort(reverse=True) #Ordena de mayoro a menor.\n",
    "print(lista)"
   ]
  },
  {
   "cell_type": "markdown",
   "metadata": {},
   "source": [
    "3) Resolver el punto anterior sin utilizar un ciclo while"
   ]
  },
  {
   "cell_type": "code",
   "execution_count": 6,
   "metadata": {},
   "outputs": [
    {
     "name": "stdout",
     "output_type": "stream",
     "text": [
      "-2\n",
      "-4\n",
      "-6\n",
      "-8\n",
      "-10\n",
      "-12\n",
      "-14\n"
     ]
    }
   ],
   "source": [
    "for i in lista:\n",
    "    if (i % 2 == 0):\n",
    "        print(i)"
   ]
  },
  {
   "cell_type": "markdown",
   "metadata": {},
   "source": [
    "4) Utilizar el iterable para recorrer sólo los primeros 3 elementos"
   ]
  },
  {
   "cell_type": "code",
   "execution_count": 7,
   "metadata": {},
   "outputs": [
    {
     "name": "stdout",
     "output_type": "stream",
     "text": [
      "-1\n",
      "-2\n",
      "-3\n"
     ]
    }
   ],
   "source": [
    "for i in lista[:3]:\n",
    "    print(i)"
   ]
  },
  {
   "cell_type": "markdown",
   "metadata": {},
   "source": [
    "5) Utilizar la función **enumerate** para obtener dentro del iterable, tambien el índice al que corresponde el elemento"
   ]
  },
  {
   "cell_type": "code",
   "execution_count": 11,
   "metadata": {},
   "outputs": [
    {
     "name": "stdout",
     "output_type": "stream",
     "text": [
      "0 -1\n",
      "1 -2\n",
      "2 -3\n",
      "3 -4\n",
      "4 -5\n",
      "5 -6\n",
      "6 -7\n",
      "7 -8\n",
      "8 -9\n",
      "9 -10\n",
      "10 -11\n",
      "11 -12\n",
      "12 -13\n",
      "13 -14\n",
      "14 -15\n"
     ]
    }
   ],
   "source": [
    "for i, c in enumerate(lista):\n",
    "    print(i, c)\n",
    "\n",
    "#A mi me sale al revés porque lo ordene de mayor a menor"
   ]
  },
  {
   "cell_type": "markdown",
   "metadata": {},
   "source": [
    "6) Dada la siguiente lista de números enteros entre 1 y 20, crear un ciclo donde se completen los valores faltantes: lista = [1,2,5,7,8,10,13,14,15,17,20]"
   ]
  },
  {
   "cell_type": "code",
   "execution_count": 14,
   "metadata": {},
   "outputs": [
    {
     "name": "stdout",
     "output_type": "stream",
     "text": [
      "[1, 2, 3, 4, 5, 6, 7, 8, 9, 10, 11, 12, 13, 14, 15, 16, 17, 18, 19, 20]\n"
     ]
    }
   ],
   "source": [
    "lista_2=[1,2,5,7,8,10,13,14,15,17,20]\n",
    "i=1\n",
    "n=0\n",
    "while(i<20):\n",
    "    if(i<lista_2[n]):\n",
    "        lista_2.insert(n,i)\n",
    "    i+=1\n",
    "    n+=1\n",
    "\n",
    "print(lista_2)"
   ]
  },
  {
   "cell_type": "code",
   "execution_count": 16,
   "metadata": {},
   "outputs": [
    {
     "name": "stdout",
     "output_type": "stream",
     "text": [
      "[1, 2, 3, 4, 5, 6, 7, 8, 9, 10, 11, 12, 13, 14, 15, 16, 17, 18, 19, 20]\n"
     ]
    }
   ],
   "source": [
    "#Otra opción\n",
    "lista_3= [1,2,5,7,8,10,13,14,15,17,20]\n",
    "n = 1\n",
    "while(n <= 20):\n",
    "    if (not(n in lista_3)): #Si n no está en la lista. \n",
    "        lista_3.insert((n-1), n) #Lo inserto en el indice que es -1 menor\n",
    "    n += 1\n",
    "print(lista_3)"
   ]
  },
  {
   "cell_type": "code",
   "execution_count": 17,
   "metadata": {},
   "outputs": [
    {
     "name": "stdout",
     "output_type": "stream",
     "text": [
      "[1, 2, 3, 4, 5, 6, 7, 8, 9, 10, 11, 12, 13, 14, 15, 16, 17, 18, 19, 20]\n"
     ]
    }
   ],
   "source": [
    "#Otra opción\n",
    "lista_4=[1,2,5,7,8,10,13,14,15,17,20]\n",
    "\n",
    "for i in range(1,20): #No estoy recorriendo la lista\n",
    "    if(i in lista_4):\n",
    "        continue #Si está en la lista, continua\n",
    "    else:\n",
    "        lista_4.append(i) #Si no está, lo agrego al final\n",
    "lista_4.sort() #Ordeno la lista de menor a mayor\n",
    "print(lista_4)"
   ]
  },
  {
   "cell_type": "markdown",
   "metadata": {},
   "source": [
    "7) La sucesión de Fibonacci es un listado de números que sigue la fórmula: <br>\n",
    "n<sub>0</sub> = 0<br>\n",
    "n<sub>1</sub> = 1<br>\n",
    "n<sub>i</sub> = n<sub>i-1</sub> + n<sub>i-2</sub><br>\n",
    "Crear una lista con los primeros treinta números de la sucesión.<br>"
   ]
  },
  {
   "cell_type": "code",
   "execution_count": 15,
   "metadata": {},
   "outputs": [
    {
     "name": "stdout",
     "output_type": "stream",
     "text": [
      "[0, 1, 1, 2, 3, 5, 8, 13, 21, 34, 55, 89, 144, 233, 377, 610, 987, 1597, 2584, 4181, 6765, 10946, 17711, 28657, 46368, 75025, 121393, 196418, 317811, 514229]\n"
     ]
    }
   ],
   "source": [
    "fibo = [0,1] #Ya pertenecen al listado, no tengo que dar más intrucciones\n",
    "n = 2 #Por eso comienzo desde el 2\n",
    "while(n < 30):  #Declaramos el recorrido del while\n",
    "    fibo.append(fibo[n-1]+fibo[n-2]) #Yo agregando el resultado al final\n",
    "    n += 1 #Sumo el contador\n",
    "print(fibo)\n",
    "\n",
    "#Lo importante es entender como se construye el fibonachi, después es solo realizar el código."
   ]
  },
  {
   "cell_type": "code",
   "execution_count": 19,
   "metadata": {},
   "outputs": [
    {
     "name": "stdout",
     "output_type": "stream",
     "text": [
      "[0, 1, 1, 2, 3, 5, 8, 13, 21, 34, 55, 89, 144, 233, 377, 610, 987, 1597, 2584, 4181, 6765, 10946, 17711, 28657, 46368, 75025, 121393, 196418, 317811, 514229]\n"
     ]
    }
   ],
   "source": [
    "#Otra opción. Recorro vacía la lista\n",
    "fibonacci = []\n",
    "for i in range(0,30):\n",
    "    if(i==0 or i==1): #Si i es = 0 o = 1 \n",
    "        fibonacci.append(i) #Lo agrego directamente, en su respectivo indice\n",
    "    else: #Si no es = 0 o = 1\n",
    "        fibonacci.append(fibonacci[i-1]+fibonacci[i-2]) #Agrego el resultado de la suma.\n",
    "print(fibonacci)"
   ]
  },
  {
   "cell_type": "markdown",
   "metadata": {},
   "source": [
    "8) Realizar la suma de todos elementos de la lista del punto anterior"
   ]
  },
  {
   "cell_type": "code",
   "execution_count": 18,
   "metadata": {},
   "outputs": [
    {
     "data": {
      "text/plain": [
       "1346268"
      ]
     },
     "execution_count": 18,
     "metadata": {},
     "output_type": "execute_result"
    }
   ],
   "source": [
    "sum(fibo) #Métodos que me permitían operar dentro de un iterable."
   ]
  },
  {
   "cell_type": "code",
   "execution_count": 20,
   "metadata": {},
   "outputs": [
    {
     "name": "stdout",
     "output_type": "stream",
     "text": [
      "1346268\n"
     ]
    }
   ],
   "source": [
    "#Otra opción\n",
    "suma = sum(fibonacci)\n",
    "print(suma)"
   ]
  },
  {
   "cell_type": "markdown",
   "metadata": {},
   "source": [
    "9) La proporción aurea se expresa con una proporción matemática que nace el número irracional Phi= 1,618… que los griegos llamaron número áureo. El cuál se puede aproximar con la sucesión de Fibonacci. Con la lista del ejercicio anterior, imprimir el cociente de los últimos 5 pares de dos números contiguos:<br>\n",
    "Donde i es la cantidad total de elementos<br>\n",
    "n<sub>i-1</sub> / n<sub>i</sub><br>\n",
    "n<sub>i-2</sub> / n<sub>i-1</sub><br>\n",
    "n<sub>i-3</sub> / n<sub>i-2</sub><br>\n",
    "n<sub>i-4</sub> / n<sub>i-3</sub><br>\n",
    "n<sub>i-5</sub> / n<sub>i-4</sub><br>"
   ]
  },
  {
   "cell_type": "code",
   "execution_count": 21,
   "metadata": {},
   "outputs": [
    {
     "name": "stdout",
     "output_type": "stream",
     "text": [
      "1.6176470588235294\n",
      "1.6181818181818182\n",
      "1.6179775280898876\n",
      "1.6180555555555556\n",
      "1.6180257510729614\n"
     ]
    }
   ],
   "source": [
    "#5 pares es igual a 10. Leer bien los enunciados!!!\n",
    "primeros = 15\n",
    "n = primeros - 5\n",
    "while(n < primeros):\n",
    "    print(fibo[n]/fibo[n-1])\n",
    "    n += 1"
   ]
  },
  {
   "cell_type": "code",
   "execution_count": 30,
   "metadata": {},
   "outputs": [
    {
     "name": "stdout",
     "output_type": "stream",
     "text": [
      "1.6176470588235294\n",
      "1.6181818181818182\n",
      "1.6179775280898876\n",
      "1.6180555555555556\n",
      "1.6180257510729614\n",
      "for\n",
      "1.6176470588235294\n",
      "1.6181818181818182\n",
      "1.6179775280898876\n",
      "1.6180555555555556\n",
      "1.6180257510729614\n"
     ]
    }
   ],
   "source": [
    "i=10\n",
    "while i < 15:\n",
    "    print(fibonacci[i]/fibonacci[i-1])\n",
    "    i +=1\n",
    "print('for')\n",
    "\n",
    "for i in range(10,15):\n",
    "    print(fibonacci[i]/fibonacci[i-1])"
   ]
  },
  {
   "cell_type": "markdown",
   "metadata": {},
   "source": [
    "10) A partir de la variable cadena ya dada, mostrar en qué posiciones aparece la letra \"n\"<br>\n",
    "cadena = 'Hola Mundo. Esto es una practica del lenguaje de programación Python'"
   ]
  },
  {
   "cell_type": "code",
   "execution_count": 31,
   "metadata": {},
   "outputs": [
    {
     "name": "stdout",
     "output_type": "stream",
     "text": [
      "7 n\n",
      "21 n\n",
      "39 n\n",
      "60 n\n",
      "67 n\n"
     ]
    }
   ],
   "source": [
    "#i recorre la posición de la letra en la cadena y se el valor de la posición de i\n",
    "cadena = 'Hola Mundo. Esto es una practica del lenguaje de programación Python'\n",
    "for i, c in enumerate(cadena): #Si o si se utiliza enumerate\n",
    "    if c == 'n':\n",
    "        print(i, c)"
   ]
  },
  {
   "cell_type": "markdown",
   "metadata": {},
   "source": [
    "11) Crear un diccionario e imprimir sus claves utilizando un iterador"
   ]
  },
  {
   "cell_type": "code",
   "execution_count": 24,
   "metadata": {},
   "outputs": [
    {
     "name": "stdout",
     "output_type": "stream",
     "text": [
      "Ciudad\n",
      "País\n",
      "Continente\n"
     ]
    }
   ],
   "source": [
    "dicc = {  'Ciudad': ['Buenos Aires','Caracas','Bogotá','Lisboa','Roma'], \n",
    "            'País': ['Argentina','Venezuela','Colombia','Portugal','Italia'], \n",
    "     'Continente' : ['América','América','América','Europa','Europa']}\n",
    "#Con el Iterador, recorro las claves\n",
    "for i in dicc:\n",
    "    print(i)"
   ]
  },
  {
   "cell_type": "code",
   "execution_count": 38,
   "metadata": {},
   "outputs": [
    {
     "name": "stdout",
     "output_type": "stream",
     "text": [
      "Prep\n",
      "Data Sciense\n",
      "['Python', 'Math']\n",
      "['Librerias Python', 'SQL', 'Estadística']\n",
      "Python\n",
      "Librerias Python\n"
     ]
    }
   ],
   "source": [
    "alumnos = {'Prep':['Python','Math'],\n",
    "           'Data Sciense':['Librerias Python','SQL','Estadística']}\n",
    "\n",
    "#Claves del diccionario\n",
    "for i in alumnos:\n",
    "    print(i)\n",
    "\n",
    "#Valor que forman parte de las claves dentro del diccionario\n",
    "for i in alumnos:\n",
    "    print(alumnos[i])\n",
    "\n",
    "#Valor de la posición de la lista. Indice. \n",
    "#Prestar mucha atención a la cantidad de elementos de cada lista porque puede dar ERROR.\n",
    "for i in alumnos:\n",
    "    print(alumnos[i][0])"
   ]
  },
  {
   "cell_type": "markdown",
   "metadata": {},
   "source": [
    "12) Convertir en una lista la variable \"cadena\" del punto 10 y luego recorrerla con un iterador "
   ]
  },
  {
   "cell_type": "code",
   "execution_count": 25,
   "metadata": {},
   "outputs": [
    {
     "name": "stdout",
     "output_type": "stream",
     "text": [
      "<class 'str'>\n",
      "<class 'list'>\n"
     ]
    }
   ],
   "source": [
    "cadena = 'Hola Mundo. Esto es una practica del lenguaje de programación Python'\n",
    "print(type(cadena))\n",
    "cadena = list(cadena) #Convierto la cadena en una lista\n",
    "print(type(cadena))"
   ]
  },
  {
   "cell_type": "code",
   "execution_count": 39,
   "metadata": {},
   "outputs": [
    {
     "name": "stdout",
     "output_type": "stream",
     "text": [
      "H\n",
      "o\n",
      "l\n",
      "a\n",
      " \n",
      "M\n",
      "u\n",
      "n\n",
      "d\n",
      "o\n",
      ".\n",
      " \n",
      "E\n",
      "s\n",
      "t\n",
      "o\n",
      " \n",
      "e\n",
      "s\n",
      " \n",
      "u\n",
      "n\n",
      "a\n",
      " \n",
      "p\n",
      "r\n",
      "a\n",
      "c\n",
      "t\n",
      "i\n",
      "c\n",
      "a\n",
      " \n",
      "d\n",
      "e\n",
      "l\n",
      " \n",
      "l\n",
      "e\n",
      "n\n",
      "g\n",
      "u\n",
      "a\n",
      "j\n",
      "e\n",
      " \n",
      "d\n",
      "e\n",
      " \n",
      "p\n",
      "r\n",
      "o\n",
      "g\n",
      "r\n",
      "a\n",
      "m\n",
      "a\n",
      "c\n",
      "i\n",
      "ó\n",
      "n\n",
      " \n",
      "P\n",
      "y\n",
      "t\n",
      "h\n",
      "o\n",
      "n\n"
     ]
    }
   ],
   "source": [
    "recorre = iter(cadena) #Devuelve un Iterador\n",
    "largo = len(cadena) #Me devuelve un entero\n",
    "for i in range(0, largo):\n",
    "    print(next(recorre)) #Me muestra en que posición estoy"
   ]
  },
  {
   "cell_type": "markdown",
   "metadata": {},
   "source": [
    "13) Crear dos listas y unirlas en una tupla utilizando la función zip"
   ]
  },
  {
   "cell_type": "code",
   "execution_count": 40,
   "metadata": {},
   "outputs": [
    {
     "name": "stdout",
     "output_type": "stream",
     "text": [
      "<class 'zip'>\n",
      "[('run', 'correr'), ('fly', 'volar'), ('sleep', 'dormir')]\n"
     ]
    }
   ],
   "source": [
    "lis1 = ['run','fly','sleep'] #Valor de la lista\n",
    "lis2 = ['correr','volar','dormir'] #Valor de la lista\n",
    "lisz = zip(lis1, lis2) #Variable con la función de unir las dos listas\n",
    "print(type(lisz)) #Imprimo el tipo de la variable lisz\n",
    "print(list(lisz)) #Imprimo la lista"
   ]
  },
  {
   "cell_type": "markdown",
   "metadata": {},
   "source": [
    "14) A partir de la siguiente lista de números, crear una nueva sólo si el número es divisible por 7<br>\n",
    "lis = [18,21,29,32,35,42,56,60,63,71,84,90,91,100]\n"
   ]
  },
  {
   "cell_type": "code",
   "execution_count": 27,
   "metadata": {},
   "outputs": [
    {
     "name": "stdout",
     "output_type": "stream",
     "text": [
      "[21, 35, 42, 56, 63, 84, 91]\n"
     ]
    }
   ],
   "source": [
    "lis = [18,21,29,32,35,42,56,60,63,71,84,90,91,100]\n",
    "#Se va guardando los datos si se cumple la condición:\n",
    "#De i en i en lis si el resto de i:7 es igual a 0\n",
    "lis2 = [i for i in lis if i % 7 == 0]\n",
    "\n",
    "print(lis2) #Imprimo la lista"
   ]
  },
  {
   "cell_type": "markdown",
   "metadata": {},
   "source": [
    "15) A partir de la lista de a continuación, contar la cantidad total de elementos que contiene, teniendo en cuenta que un elemento de la lista podría ser otra lista:<br>\n",
    "lis = [[1,2,3,4],'rojo','verde',[True,False,False],['uno','dos','tres']]\n"
   ]
  },
  {
   "cell_type": "code",
   "execution_count": 42,
   "metadata": {},
   "outputs": [
    {
     "name": "stdout",
     "output_type": "stream",
     "text": [
      "<class 'list'>\n",
      "La cantidad total de elementos es 12\n"
     ]
    }
   ],
   "source": [
    "#Lista que contiene otra lista, string, booleano, otra lista con string\n",
    "lis = [[1,2,3,4],'rojo','verde',[True,False,False],['uno','dos','tres']]\n",
    "\n",
    "print(type(lis))\n",
    "\n",
    "cantidad = 0 #Contador\n",
    "\n",
    "for elemento in lis:\n",
    "    if (type(elemento) == list): #Si el elemento es una lista\n",
    "        cantidad += len(elemento) #Que cuente cada elemento de la lista\n",
    "    else: #Si no es una lista\n",
    "        cantidad += 1 #Solo suma 1\n",
    "print('La cantidad total de elementos es', cantidad)"
   ]
  },
  {
   "cell_type": "markdown",
   "metadata": {},
   "source": [
    "16) Tomar la lista del punto anterior y convertir cada elemento en una lista si no lo es"
   ]
  },
  {
   "cell_type": "code",
   "execution_count": 44,
   "metadata": {},
   "outputs": [
    {
     "name": "stdout",
     "output_type": "stream",
     "text": [
      "[[1, 2, 3, 4], ['r', 'o', 'j', 'o'], ['v', 'e', 'r', 'd', 'e'], [True, False, False], ['uno', 'dos', 'tres']]\n"
     ]
    }
   ],
   "source": [
    "for indice, elemento in enumerate(lis):\n",
    "    if (type(elemento) != list): #Si el elemento no es una lista\n",
    "        lis[indice]=[elemento] #Lo guardo como una en el indice indicado\n",
    "print(lis)\n",
    "\n",
    "#El ['uno','dos,'tres'] no lo guardo por separado porque ya es una lista"
   ]
  },
  {
   "cell_type": "code",
   "execution_count": 43,
   "metadata": {},
   "outputs": [
    {
     "name": "stdout",
     "output_type": "stream",
     "text": [
      "[[1, 2, 3, 4], ['r', 'o', 'j', 'o'], ['v', 'e', 'r', 'd', 'e'], [True, False, False], ['uno', 'dos', 'tres']]\n"
     ]
    }
   ],
   "source": [
    "for indice, elemento in enumerate(lis):\n",
    "    if (type(elemento) != list): #Si el elemento no es una lista\n",
    "        lis[indice]=list(elemento) #Lo guardo como una en el indice indicado\n",
    "print(lis)\n",
    "\n",
    "#El ['uno','dos,'tres'] no lo guardo por separado porque ya es una lista"
   ]
  }
 ],
 "metadata": {
  "interpreter": {
   "hash": "70956b4a6c64855e044259549ca8e1795d293bdfd9b2c72edb2802a64e434e5c"
  },
  "kernelspec": {
   "display_name": "Python 3.10.4 64-bit (windows store)",
   "language": "python",
   "name": "python3"
  },
  "language_info": {
   "codemirror_mode": {
    "name": "ipython",
    "version": 3
   },
   "file_extension": ".py",
   "mimetype": "text/x-python",
   "name": "python",
   "nbconvert_exporter": "python",
   "pygments_lexer": "ipython3",
   "version": "3.10.4"
  },
  "orig_nbformat": 4
 },
 "nbformat": 4,
 "nbformat_minor": 2
}
